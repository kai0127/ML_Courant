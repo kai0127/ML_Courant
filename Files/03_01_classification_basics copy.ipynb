{
 "cells": [
  {
   "cell_type": "markdown",
   "metadata": {},
   "source": [
    "** This notebook is based on Geron's Hands-On Machine Learning, Chapter 3, as well as his <a href=\"https://github.com/ageron/handson-ml/blob/master/03_classification.ipynb\">classification notebook</a>. For theory on Naive Bayes and Stochastic Gradient Descent we provide references below.\n"
   ]
  },
  {
   "cell_type": "code",
   "execution_count": 1,
   "metadata": {
    "collapsed": true,
    "jupyter": {
     "outputs_hidden": true
    }
   },
   "outputs": [],
   "source": [
    "# To support both python 2 and python 3\n",
    "from __future__ import division, print_function, unicode_literals\n",
    "\n",
    "# Common imports\n",
    "import numpy as np\n",
    "import os\n",
    "\n",
    "# to make this notebook's output stable across runs\n",
    "np.random.seed(42)\n",
    "\n",
    "# To plot pretty figures\n",
    "%matplotlib inline\n",
    "import matplotlib\n",
    "import matplotlib.pyplot as plt\n",
    "plt.rcParams['axes.labelsize'] = 14\n",
    "plt.rcParams['xtick.labelsize'] = 12\n",
    "plt.rcParams['ytick.labelsize'] = 12\n"
   ]
  },
  {
   "cell_type": "code",
   "execution_count": 2,
   "metadata": {
    "collapsed": true,
    "jupyter": {
     "outputs_hidden": true
    }
   },
   "outputs": [],
   "source": [
    "# a few auxiliary plotting functions for the MNIST dataset below\n",
    "def plot_digit(data):\n",
    "    image = data.reshape(28, 28)\n",
    "    plt.imshow(image, cmap = matplotlib.cm.binary,\n",
    "               interpolation=\"nearest\")\n",
    "    plt.axis(\"off\")\n",
    "    \n",
    "# EXTRA\n",
    "def plot_digits(instances, images_per_row=10, **options):\n",
    "    size = 28\n",
    "    images_per_row = min(len(instances), images_per_row)\n",
    "    images = [instance.reshape(size,size) for instance in instances]\n",
    "    n_rows = (len(instances) - 1) // images_per_row + 1\n",
    "    row_images = []\n",
    "    n_empty = n_rows * images_per_row - len(instances)\n",
    "    images.append(np.zeros((size, size * n_empty)))\n",
    "    for row in range(n_rows):\n",
    "        rimages = images[row * images_per_row : (row + 1) * images_per_row]\n",
    "        row_images.append(np.concatenate(rimages, axis=1))\n",
    "    image = np.concatenate(row_images, axis=0)\n",
    "    plt.imshow(image, cmap = matplotlib.cm.binary, **options)\n",
    "    plt.axis(\"off\")\n",
    "    "
   ]
  },
  {
   "cell_type": "markdown",
   "metadata": {},
   "source": [
    "# MNIST"
   ]
  },
  {
   "cell_type": "code",
   "execution_count": 3,
   "metadata": {
    "collapsed": true,
    "jupyter": {
     "outputs_hidden": true
    }
   },
   "outputs": [],
   "source": [
    "import warnings\n",
    "warnings.filterwarnings('ignore') "
   ]
  },
  {
   "cell_type": "code",
   "execution_count": 4,
   "metadata": {},
   "outputs": [
    {
     "name": "stdout",
     "output_type": "stream",
     "text": [
      "trying loading pre-saved mnist data\n",
      "done\n"
     ]
    },
    {
     "data": {
      "text/plain": [
       "(array([[0., 0., 0., ..., 0., 0., 0.],\n",
       "        [0., 0., 0., ..., 0., 0., 0.],\n",
       "        [0., 0., 0., ..., 0., 0., 0.],\n",
       "        ...,\n",
       "        [0., 0., 0., ..., 0., 0., 0.],\n",
       "        [0., 0., 0., ..., 0., 0., 0.],\n",
       "        [0., 0., 0., ..., 0., 0., 0.]]),\n",
       " array(['5', '0', '4', ..., '4', '5', '6'], dtype=object))"
      ]
     },
     "execution_count": 4,
     "metadata": {},
     "output_type": "execute_result"
    }
   ],
   "source": [
    "import sklearn as skl\n",
    "import pickle\n",
    "\n",
    "try:\n",
    "    print('trying loading pre-saved mnist data')\n",
    "    with open('mnist.pkl', 'rb') as file:\n",
    "        mnist = pickle.load(file)\n",
    "        print('done')\n",
    "except:\n",
    "    print('failed loading pre-saved mnist... loading from repository')\n",
    "    if skl.__version__ >= '0.22':\n",
    "        from sklearn.datasets import fetch_openml\n",
    "        mnist = fetch_openml('mnist_784', as_frame=False)    \n",
    "    else:\n",
    "        from sklearn.datasets import fetch_mldata\n",
    "        mnist = fetch_mldata('MNIST original') # Depreciated in newer versions of sklearn\n",
    "    \n",
    "    print('saving locally')\n",
    "    with open('mnist.pkl', 'wb') as file:\n",
    "        pickle.dump(mnist, file)\n",
    "\n",
    "mnist.data, mnist.target"
   ]
  },
  {
   "cell_type": "code",
   "execution_count": 5,
   "metadata": {},
   "outputs": [
    {
     "data": {
      "text/plain": [
       "((70000, 784), (70000,), 784)"
      ]
     },
     "execution_count": 5,
     "metadata": {},
     "output_type": "execute_result"
    }
   ],
   "source": [
    "X, y = mnist[\"data\"], mnist[\"target\"]\n",
    "y = y.astype(np.int) # in mnist_784 data type is string-casted ints\n",
    "X.shape, y.shape, 28*28"
   ]
  },
  {
   "cell_type": "code",
   "execution_count": 6,
   "metadata": {},
   "outputs": [
    {
     "name": "stdout",
     "output_type": "stream",
     "text": [
      "training point: 36000  is digit 9\n"
     ]
    },
    {
     "data": {
      "image/png": "[encoded data removed]",
      "text/plain": [
       "<Figure size 432x288 with 1 Axes>"
      ]
     },
     "metadata": {},
     "output_type": "display_data"
    }
   ],
   "source": [
    "i = np.random.choice(len(X))\n",
    "i = 36000\n",
    "some_digit = X[i]\n",
    "plot_digit(some_digit)\n",
    "print('training point:', i, ' is digit', int(y[i]))\n"
   ]
  },
  {
   "cell_type": "code",
   "execution_count": 7,
   "metadata": {},
   "outputs": [
    {
     "data": {
      "image/png": "[encoded data removed]",
      "text/plain": [
       "<Figure size 648x648 with 1 Axes>"
      ]
     },
     "metadata": {},
     "output_type": "display_data"
    }
   ],
   "source": [
    "plt.figure(figsize=(9,9))\n",
    "example_images = np.r_[X[:12000:600], X[13000:30600:600], X[30600:60000:590]]\n",
    "plot_digits(example_images, images_per_row=10)\n",
    "plt.show()"
   ]
  },
  {
   "cell_type": "code",
   "execution_count": 8,
   "metadata": {},
   "outputs": [
    {
     "data": {
      "image/png": "[encoded data removed]",
      "text/plain": [
       "<Figure size 288x288 with 1 Axes>"
      ]
     },
     "metadata": {},
     "output_type": "display_data"
    }
   ],
   "source": [
    "# Note that the test and training data are already prepared in this dataset\n",
    "# this however is be depreciated in the Sklearn 0.20\n",
    "fig, ax = plt.subplots(1,1, figsize=[4,4])\n",
    "ax.scatter(y[:-1], y[1:], marker='o', linewidth=0)\n",
    "ax.set_title('full dataset');"
   ]
  },
  {
   "cell_type": "markdown",
   "metadata": {},
   "source": [
    "### Let's split train-test data and shuffle the training data"
   ]
  },
  {
   "cell_type": "code",
   "execution_count": 9,
   "metadata": {
    "collapsed": true,
    "jupyter": {
     "outputs_hidden": true
    }
   },
   "outputs": [],
   "source": [
    "X_train, X_test, y_train, y_test = X[:60000], X[60000:], y[:60000], y[60000:]\n",
    "shuffle_index = np.random.permutation(60000)\n",
    "X_train, y_train = X_train[shuffle_index], y_train[shuffle_index]"
   ]
  },
  {
   "cell_type": "markdown",
   "metadata": {},
   "source": [
    "### Lets make our data binary-label\n",
    "since this is a multi-label data, let's make it into binary data, by classifying if a digit is 5 or not"
   ]
  },
  {
   "cell_type": "code",
   "execution_count": 10,
   "metadata": {
    "collapsed": true,
    "jupyter": {
     "outputs_hidden": true
    }
   },
   "outputs": [],
   "source": [
    "y_train_5 = (y_train == 5)\n",
    "y_test_5 = (y_test == 5)"
   ]
  },
  {
   "cell_type": "code",
   "execution_count": 11,
   "metadata": {},
   "outputs": [
    {
     "data": {
      "text/plain": [
       "892"
      ]
     },
     "execution_count": 11,
     "metadata": {},
     "output_type": "execute_result"
    }
   ],
   "source": [
    "y_test_5.sum()"
   ]
  },
  {
   "cell_type": "markdown",
   "metadata": {},
   "source": [
    "# A little more theory on binary classifiers\n",
    "\n",
    "### Logistic Regression is slow for Big Data\n",
    "\n",
    "One of the disadvantages of logistic regression is that it doesn't scale when the number of datapoints $N$ grows large. Remember our iterative algorithm to compute the $\\beta$'s (e.g. Hastie Ch 4.4)\n",
    "\n",
    "$$\n",
    "\\begin{align}\n",
    "\\beta^\\text{new} & = \\beta^\\text{old} + (X^TWX)^{-1}X^TW(X\\beta^\\text{old}+W^{-1}(y-p))\n",
    "\\end{align}\n",
    "$$\n",
    "\n",
    "also requires us to compute the inverse of $(X^TWX)$ as well as the inverse of the Hessian $W=\\partial^2{W}/\\partial{\\beta}\\partial{\\beta^T}$ which are both of size $N\\times{N}$. So for large datasets the algorithm is slow. **Therefore the cell below will run very slow (do it at your own risk!):**"
   ]
  },
  {
   "cell_type": "code",
   "execution_count": 12,
   "metadata": {
    "collapsed": true,
    "jupyter": {
     "outputs_hidden": true
    }
   },
   "outputs": [],
   "source": [
    "train_me = False\n",
    "if train_me:\n",
    "    # This code runs really slow because logistic regression has to invert a 60,000x60,000 matrix!\n",
    "    from sklearn.linear_model import LogisticRegression\n",
    "\n",
    "    logit_slow_clf = LogisticRegression()\n",
    "    logit_slow_clf.fit(X_train, y_train_5)"
   ]
  },
  {
   "cell_type": "markdown",
   "metadata": {},
   "source": [
    "### One Solution (Stochastic) Gradient descent approach\n",
    "\n",
    "**Gradient descent** methods are a great way to speed up the optimization when the dataset size grows large. We will come back to these methods later, but the basc idea is to optimize a likelihood\n",
    "\n",
    "$$\n",
    "\\mathcal{L}(Y,X,B) = \\frac{1}{N}\\sum^N_{i=1}\\ell(y_i,x_i,\\beta_i)\n",
    "$$\n",
    "\n",
    "with respect to $B\\equiv\\{\\beta_i\\}^N_{i=1}$ by initializing $B=B_0$ and then iteratively update $B$ by:\n",
    "\n",
    "$$\n",
    "B_{n+1}=B_n-\\gamma_n\\nabla_B\\mathcal{L}(Y,X,B_n)\n",
    "$$\n",
    "\n",
    "where the *learning rate* is typically chosen to be a small enough constant $\\gamma_n=\\gamma=const$ that the iteration will converge to a local minimum. The advantage of the above algorithm is that it does not involve matrix inversion. The disadvantage is that it doesn't guarantee global minimum convergence so it lacks robustness.\n",
    "\n",
    "To make gradient descent robust, one typically adds noise as follows. In a **Stochastic Gradient Descent** (SGD):\n",
    "\n",
    "- one feeds new training data $X_i, y_i$ in random batches of size $M$\n",
    "- after each batch the gradient is computed and the update of $B$ is performed \n",
    "- since batches are chosen at random the gradient will be stochastic approximation of the full data set gradient \n",
    "- therefore the calculation is more robust to nose.\n",
    "\n",
    "\n",
    "We will come back to SGD methods in later lectures, but if you are curious, read the <a href=\"https://en.wikipedia.org/wiki/Stochastic_gradient_descent\">SGD Wiki page</a>"
   ]
  },
  {
   "cell_type": "markdown",
   "metadata": {},
   "source": [
    "### SGD For logistic regression\n",
    "For logistic regession the SGD algorithm is implemented in the \n",
    "<a href=\"http://scikit-learn.org/stable/modules/generated/sklearn.linear_model.SGDClassifier.html#sklearn.linear_model.SGDClassifier\">SGDClassifier class</a>. In order to have logistic regression, we need to specify the loss parameter to be 'log'. This amounts\n",
    "<a href=\"http://scikit-learn.org/stable/modules/sgd.html\">to optimizing the following loss function</a>:\n",
    "\n",
    "$$\n",
    "\\begin{align}\n",
    "\\mathcal{L}(w,b|Y,X)&=\\frac{1}{N}\\sum^N_{i=1}\\ell(w,b|y_i,x_i)+\\alpha{R}(w)\\\\\n",
    "&=\\frac{1}{N}\\sum^N_{i=1}\\{y_i\\log{p}(w,b|x_i)+(1-y_i)\\log(1-p(w,b|x_i)\\}+\\alpha{R}(w)\n",
    "\\end{align}\n",
    "$$\n",
    "\n",
    "where $p(w,b|x)=\\exp(w^Tx+b)/(1+\\exp(w^Tx+b))$ and $w$ and $b$ are are the weight and bias parameters. The SGDClassifier then applies the SGD algorithm to the above loss.\n",
    "\n",
    "Let's instantiate a SGD Logistic regression classifier:"
   ]
  },
  {
   "cell_type": "code",
   "execution_count": 14,
   "metadata": {},
   "outputs": [
    {
     "data": {
      "text/plain": [
       "SGDClassifier(loss='log', max_iter=100, random_state=42, tol=-inf)"
      ]
     },
     "execution_count": 14,
     "metadata": {},
     "output_type": "execute_result"
    }
   ],
   "source": [
    "from sklearn.linear_model import SGDClassifier\n",
    "\n",
    "#this loss corresponds to logistic regression\n",
    "logit_clf = SGDClassifier(\n",
    "    random_state=42, loss='log', max_iter=100, tol=-np.infty) \n",
    "logit_clf.fit(X_train, y_train_5)\n"
   ]
  },
  {
   "cell_type": "markdown",
   "metadata": {},
   "source": [
    "### As an aside, here is also the LDA another classifier\n",
    "### - suffers from the same curse (of matrix inversion) curse\n",
    "\n",
    "In the LDA (Hastie Ch. 4) one parametrizes the conditional likelihood ratio to be quadratic:\n",
    "\n",
    "$$\n",
    "\\log\\frac{P(G=k|X=x)}{P(G=\\ell|X=x)}\\propto\\delta_k(x)=x^T\\Sigma^{-1}\\mu_k-\\frac{1}{2}\\mu^T_k\\Sigma^{-1}\\mu_k+\\log\\pi_k\n",
    "$$\n",
    "\n",
    "However the estimation of $\\Sigma$ also involves matrix inversion:\n",
    "\n",
    "$$\n",
    "\\hat\\Sigma=\\frac{1}{N-K}\\sum^K_{k=1}\\sum_{g_i=K}(x_i-\\hat\\mu_k)(x_i-\\hat\\mu_k)^T\n",
    "$$"
   ]
  },
  {
   "cell_type": "code",
   "execution_count": 15,
   "metadata": {
    "collapsed": true,
    "jupyter": {
     "outputs_hidden": true
    }
   },
   "outputs": [],
   "source": [
    "train_me = False\n",
    "if train_me:\n",
    "    # This is very slow! Run this at your own risk!\n",
    "    from sklearn.discriminant_analysis import LinearDiscriminantAnalysis\n",
    "    lda_clf = LinearDiscriminantAnalysis()\n",
    "    lda_clf.fit(X_train, y_train_5)"
   ]
  },
  {
   "cell_type": "markdown",
   "metadata": {},
   "source": [
    "### Naive Bayes classifier\n",
    "Similarly to the LDA, the Naive Bayes Classifier (see Hastie Ch. 6.6.3) models the log-likelihood ratio:\n",
    "\n",
    "$$\n",
    "\\log\\frac{P(G=k|X=x)}{P(G=\\ell|X=x)}=\\log\\frac{\\pi_k{f}_k(X)}{\\pi_\\ell{f}_\\ell(X)}\n",
    "$$\n",
    "\n",
    "But instead of assuming a linear in $x$ log-likelihood ratio as in the LDA case (Hastie, eq 4.9), the NB classifier assumes that given a class $G=j$ the features $X_k$ are independent:\n",
    "\n",
    "$$\n",
    "f_j(X)=P(X|G=j)=\\prod^p_{k=1}f_{jk}(X_k)\n",
    "$$\n",
    "\n",
    "so that the log-likelihood ratio becomes:\n",
    "\n",
    "$$\n",
    "\\log\\frac{P(G=k|X=x)}{P(G=\\ell|X=x)}=\\log\\frac{\\pi_k}{\\pi_\\ell}+\\sum^p_{s=1}\\log\\frac{f_{ks}(X_s)}{f_{\\ell{s}}(X_s)}\n",
    "$$\n",
    "\n",
    "Note that:\n",
    "- the independence of features given a class may only be approximately correct if the number of features is large. These types of classifiers are usually a good choice for document classifiers (say spam classifiers) where the features of each document are the frequency of occurence of each of the words in the given language (a large feature space)\n",
    "- the NB classifier is usually fast, because one only needs to estimate marginal conditional distributions of the data, $f_{jk}$. E.g. conditional on $G=j$ what is the distribution of the $k-$th feature? We will soon learn methods to efficiently estimate such marginal distributions.\n",
    "- Under what conditions is the Naive Bayes classifier the same as the LDA classifier?"
   ]
  },
  {
   "cell_type": "markdown",
   "metadata": {},
   "source": [
    "### Gaussian Naive Bayes classifier\n",
    "The simplest choice of a marginal conditional feature distribution is a Gaussian conditional:\n",
    "\n",
    "$$\n",
    "P(X_k|G=j)=f_{jk}=\\frac{1}{\\sqrt{2\\pi\\sigma^2_j}}\\exp(-\\frac{(x_k-\\mu_j)^2}{2\\sigma^2_j})\n",
    "$$\n",
    "\n",
    "which corresponds to the <a href=\"http://scikit-learn.org/stable/modules/naive_bayes.html\">GaussianNB</a> class in scikit-learn"
   ]
  },
  {
   "cell_type": "code",
   "execution_count": 16,
   "metadata": {},
   "outputs": [
    {
     "data": {
      "text/plain": [
       "GaussianNB()"
      ]
     },
     "execution_count": 16,
     "metadata": {},
     "output_type": "execute_result"
    }
   ],
   "source": [
    "#this is the Gaussian Naive Bayes classifier\n",
    "from sklearn.naive_bayes import GaussianNB\n",
    "\n",
    "gnb_clf = GaussianNB()\n",
    "gnb_clf.fit(X_train, y_train_5)"
   ]
  },
  {
   "cell_type": "code",
   "execution_count": 22,
   "metadata": {},
   "outputs": [
    {
     "name": "stdout",
     "output_type": "stream",
     "text": [
      "Is this digit 5? Classifier says: True\n"
     ]
    },
    {
     "data": {
      "image/png": "[encoded data removed]",
      "text/plain": [
       "<Figure size 432x288 with 1 Axes>"
      ]
     },
     "metadata": {},
     "output_type": "display_data"
    }
   ],
   "source": [
    "model = gnb_clf\n",
    "# model = logit_clf\n",
    "# d = some_digit # remember this is a 5\n",
    "d = X_train[np.random.choice(len(X_train))]\n",
    "plot_digit(d)\n",
    "print('Is this digit 5? Classifier says:', model.predict([d])[0])"
   ]
  },
  {
   "cell_type": "markdown",
   "metadata": {},
   "source": [
    "# Performance Measures\n",
    "Let's see which classifier is better - SGD LogisticRegression or Gaussian Naive Bayes"
   ]
  },
  {
   "cell_type": "markdown",
   "metadata": {},
   "source": [
    "### Cross-validation scoring"
   ]
  },
  {
   "cell_type": "code",
   "execution_count": 23,
   "metadata": {},
   "outputs": [
    {
     "name": "stdout",
     "output_type": "stream",
     "text": [
      "0.24665\n",
      "0.2533\n",
      "0.2438\n"
     ]
    }
   ],
   "source": [
    "# model = logit_clf\n",
    "model = gnb_clf\n",
    "from sklearn.model_selection import StratifiedKFold\n",
    "from sklearn.base import clone\n",
    "\n",
    "skfolds = StratifiedKFold(n_splits=3, random_state=42, shuffle=True)\n",
    "\n",
    "for train_index, test_index in skfolds.split(X_train, y_train_5):\n",
    "    clone_clf = clone(model)\n",
    "    X_train_folds = X_train[train_index]\n",
    "    y_train_folds = (y_train_5[train_index])\n",
    "    X_test_fold = X_train[test_index]\n",
    "    y_test_fold = (y_train_5[test_index])\n",
    "\n",
    "    clone_clf.fit(X_train_folds, y_train_folds)\n",
    "    y_pred = clone_clf.predict(X_test_fold)\n",
    "    n_correct = sum(y_pred == y_test_fold)\n",
    "    print(n_correct / len(y_pred))"
   ]
  },
  {
   "cell_type": "markdown",
   "metadata": {},
   "source": [
    "### Let's compare the two classifiers with Scikit-learn's own cross_val_score function"
   ]
  },
  {
   "cell_type": "code",
   "execution_count": 24,
   "metadata": {},
   "outputs": [
    {
     "name": "stdout",
     "output_type": "stream",
     "text": [
      "<class 'sklearn.linear_model._stochastic_gradient.SGDClassifier'>\n",
      "cv_score [0.96295 0.9511  0.962  ] \n",
      "\n",
      "<class 'sklearn.naive_bayes.GaussianNB'>\n",
      "cv_score [0.25215 0.25375 0.24485] \n",
      "\n"
     ]
    }
   ],
   "source": [
    "\n",
    "from sklearn.model_selection import cross_val_score\n",
    "for model in [logit_clf, gnb_clf]:\n",
    "    print(model.__class__)\n",
    "    cv_score = cross_val_score(\n",
    "        model, X_train, y_train_5, cv=3, scoring=\"accuracy\")\n",
    "    print(\"cv_score\", cv_score, '\\n')"
   ]
  },
  {
   "cell_type": "code",
   "execution_count": null,
   "metadata": {
    "collapsed": true,
    "jupyter": {
     "outputs_hidden": true
    }
   },
   "outputs": [],
   "source": []
  },
  {
   "cell_type": "code",
   "execution_count": null,
   "metadata": {
    "collapsed": true,
    "jupyter": {
     "outputs_hidden": true
    }
   },
   "outputs": [],
   "source": []
  },
  {
   "cell_type": "code",
   "execution_count": null,
   "metadata": {
    "collapsed": true,
    "jupyter": {
     "outputs_hidden": true
    }
   },
   "outputs": [],
   "source": []
  },
  {
   "cell_type": "code",
   "execution_count": null,
   "metadata": {
    "collapsed": true,
    "jupyter": {
     "outputs_hidden": true
    }
   },
   "outputs": [],
   "source": []
  },
  {
   "cell_type": "code",
   "execution_count": null,
   "metadata": {
    "collapsed": true,
    "jupyter": {
     "outputs_hidden": true
    }
   },
   "outputs": [],
   "source": []
  },
  {
   "cell_type": "code",
   "execution_count": null,
   "metadata": {
    "collapsed": true,
    "jupyter": {
     "outputs_hidden": true
    }
   },
   "outputs": [],
   "source": []
  },
  {
   "cell_type": "code",
   "execution_count": null,
   "metadata": {
    "collapsed": true,
    "jupyter": {
     "outputs_hidden": true
    }
   },
   "outputs": [],
   "source": []
  },
  {
   "cell_type": "markdown",
   "metadata": {},
   "source": [
    "### It seems above that the Gaussian NB is much worse than the SGD Classifier. Can you find reasons why?"
   ]
  },
  {
   "cell_type": "code",
   "execution_count": null,
   "metadata": {
    "collapsed": true,
    "jupyter": {
     "outputs_hidden": true
    }
   },
   "outputs": [],
   "source": []
  },
  {
   "cell_type": "code",
   "execution_count": null,
   "metadata": {
    "collapsed": true,
    "jupyter": {
     "outputs_hidden": true
    }
   },
   "outputs": [],
   "source": []
  },
  {
   "cell_type": "code",
   "execution_count": null,
   "metadata": {
    "collapsed": true,
    "jupyter": {
     "outputs_hidden": true
    }
   },
   "outputs": [],
   "source": []
  },
  {
   "cell_type": "code",
   "execution_count": null,
   "metadata": {
    "collapsed": true,
    "jupyter": {
     "outputs_hidden": true
    }
   },
   "outputs": [],
   "source": []
  },
  {
   "cell_type": "code",
   "execution_count": null,
   "metadata": {
    "collapsed": true,
    "jupyter": {
     "outputs_hidden": true
    }
   },
   "outputs": [],
   "source": []
  },
  {
   "cell_type": "code",
   "execution_count": null,
   "metadata": {
    "collapsed": true,
    "jupyter": {
     "outputs_hidden": true
    }
   },
   "outputs": [],
   "source": []
  },
  {
   "cell_type": "code",
   "execution_count": null,
   "metadata": {
    "collapsed": true,
    "jupyter": {
     "outputs_hidden": true
    }
   },
   "outputs": [],
   "source": []
  },
  {
   "cell_type": "code",
   "execution_count": null,
   "metadata": {
    "collapsed": true,
    "jupyter": {
     "outputs_hidden": true
    }
   },
   "outputs": [],
   "source": []
  },
  {
   "cell_type": "markdown",
   "metadata": {},
   "source": [
    "### Let's implement another really dumb classifier "
   ]
  },
  {
   "cell_type": "code",
   "execution_count": 25,
   "metadata": {
    "collapsed": true,
    "jupyter": {
     "outputs_hidden": true
    }
   },
   "outputs": [],
   "source": [
    "from sklearn.base import BaseEstimator\n",
    "class Never5Classifier(BaseEstimator):\n",
    "    def fit(self, X, y=None):\n",
    "        pass\n",
    "    def predict(self, X):\n",
    "        return np.zeros((len(X), 1), dtype=bool)"
   ]
  },
  {
   "cell_type": "code",
   "execution_count": 26,
   "metadata": {},
   "outputs": [
    {
     "data": {
      "text/plain": [
       "array([0.90985, 0.90715, 0.91195])"
      ]
     },
     "execution_count": 26,
     "metadata": {},
     "output_type": "execute_result"
    }
   ],
   "source": [
    "never_5_clf = Never5Classifier()\n",
    "cross_val_score(never_5_clf, X_train, y_train_5, cv=3, scoring=\"accuracy\")"
   ]
  },
  {
   "cell_type": "code",
   "execution_count": null,
   "metadata": {
    "collapsed": true,
    "jupyter": {
     "outputs_hidden": true
    }
   },
   "outputs": [],
   "source": []
  },
  {
   "cell_type": "code",
   "execution_count": null,
   "metadata": {
    "collapsed": true,
    "jupyter": {
     "outputs_hidden": true
    }
   },
   "outputs": [],
   "source": []
  },
  {
   "cell_type": "code",
   "execution_count": null,
   "metadata": {
    "collapsed": true,
    "jupyter": {
     "outputs_hidden": true
    }
   },
   "outputs": [],
   "source": []
  },
  {
   "cell_type": "code",
   "execution_count": null,
   "metadata": {
    "collapsed": true,
    "jupyter": {
     "outputs_hidden": true
    }
   },
   "outputs": [],
   "source": []
  },
  {
   "cell_type": "code",
   "execution_count": null,
   "metadata": {
    "collapsed": true,
    "jupyter": {
     "outputs_hidden": true
    }
   },
   "outputs": [],
   "source": []
  },
  {
   "cell_type": "markdown",
   "metadata": {},
   "source": [
    "### The Never5Classifier has better accuracy than the Gaussian NaiveBayes and almost the same as the SGD classifier! \n",
    "\n",
    "### Can you think of why?"
   ]
  },
  {
   "cell_type": "code",
   "execution_count": null,
   "metadata": {
    "collapsed": true,
    "jupyter": {
     "outputs_hidden": true
    }
   },
   "outputs": [],
   "source": []
  },
  {
   "cell_type": "code",
   "execution_count": null,
   "metadata": {
    "collapsed": true,
    "jupyter": {
     "outputs_hidden": true
    }
   },
   "outputs": [],
   "source": []
  },
  {
   "cell_type": "code",
   "execution_count": null,
   "metadata": {
    "collapsed": true,
    "jupyter": {
     "outputs_hidden": true
    }
   },
   "outputs": [],
   "source": []
  },
  {
   "cell_type": "code",
   "execution_count": null,
   "metadata": {
    "collapsed": true,
    "jupyter": {
     "outputs_hidden": true
    }
   },
   "outputs": [],
   "source": []
  },
  {
   "cell_type": "code",
   "execution_count": null,
   "metadata": {
    "collapsed": true,
    "jupyter": {
     "outputs_hidden": true
    }
   },
   "outputs": [],
   "source": []
  },
  {
   "cell_type": "code",
   "execution_count": null,
   "metadata": {
    "collapsed": true,
    "jupyter": {
     "outputs_hidden": true
    }
   },
   "outputs": [],
   "source": []
  },
  {
   "cell_type": "code",
   "execution_count": null,
   "metadata": {
    "collapsed": true,
    "jupyter": {
     "outputs_hidden": true
    }
   },
   "outputs": [],
   "source": []
  },
  {
   "cell_type": "markdown",
   "metadata": {},
   "source": [
    "### Confusion Matrix\n",
    "Let's look at the Confusion Matrix which counts how many times class A was predicted as class B. For the two class problem, it is defined as:\n",
    "\n",
    "$$\n",
    "C  =\n",
    "\\begin{bmatrix}\n",
    "    N_{A,A} & N_{A,B} \\\\\n",
    "    N_{B,A} & N_{B,B} \\\\\n",
    "\\end{bmatrix}\n",
    "=\n",
    "\\begin{bmatrix}\n",
    "    N_{actual=A,predict=A} & N_{actual=A,predict=B} \\\\\n",
    "    N_{actual=B,predict=A} & N_{actual=B,predict=B} \\\\\n",
    "\\end{bmatrix} \n",
    "$$\n",
    "\n",
    "Using the cross_val_predict method in sklearn we can split the train data in to 3 subsets and for each subset, we use the rest of the train data to predict it. This way we end up with predictions y_train_pred for each training sample, from which we can compute the confusion matrix\n"
   ]
  },
  {
   "cell_type": "code",
   "execution_count": 27,
   "metadata": {
    "collapsed": true,
    "jupyter": {
     "outputs_hidden": true
    }
   },
   "outputs": [],
   "source": [
    "models = [logit_clf, gnb_clf, never_5_clf]"
   ]
  },
  {
   "cell_type": "code",
   "execution_count": 28,
   "metadata": {},
   "outputs": [
    {
     "name": "stdout",
     "output_type": "stream",
     "text": [
      "<class 'sklearn.linear_model._stochastic_gradient.SGDClassifier'>\n",
      "[[54258   321]\n",
      " [ 2158  3263]]\n",
      "\n",
      "<class 'sklearn.naive_bayes.GaussianNB'>\n",
      "[[ 9684 44895]\n",
      " [   90  5331]]\n",
      "\n",
      "<class '__main__.Never5Classifier'>\n",
      "[[54579     0]\n",
      " [ 5421     0]]\n",
      "\n"
     ]
    }
   ],
   "source": [
    "from sklearn.model_selection import cross_val_predict\n",
    "from sklearn.metrics import confusion_matrix\n",
    "\n",
    "dict_y_tpred={}\n",
    "for model in models:\n",
    "    y_train_pred = cross_val_predict(model, X_train, y_train_5, cv=3)\n",
    "    dict_y_tpred[model.__class__] = y_train_pred\n",
    "    print(model.__class__)\n",
    "    print(confusion_matrix(y_train_5, y_train_pred))\n",
    "    print('')"
   ]
  },
  {
   "cell_type": "markdown",
   "metadata": {},
   "source": [
    "###  Note how the Never5Classifier is correct 90% of the time because the training data is 9-fold unbalanced. In terms of the confusion matrix:\n",
    "\n",
    "$$\n",
    "\\begin{align}\n",
    "C  & =\n",
    "\\begin{bmatrix}\n",
    "    N_{actual=non-5,predict=non-5} & N_{actual=non-5,predict=5} \\\\\n",
    "    N_{actual=5,predict=non-5} & N_{actual=5,predict=5} \\\\\n",
    "\\end{bmatrix} \\\\\n",
    "& =\n",
    "\\begin{bmatrix}\n",
    "    \\text{True Negatives} & \\text{False Negatives} \\\\\n",
    "    \\text{False Positives} & \\text{True Positives} \\\\\n",
    "\\end{bmatrix}\n",
    "=\n",
    "\\begin{bmatrix}\n",
    "    \\text{TN} & \\text{FN} \\\\\n",
    "    \\text{FP} & \\text{TP} \\\\\n",
    "\\end{bmatrix}\n",
    "\\end{align}\n",
    "$$"
   ]
  },
  {
   "cell_type": "markdown",
   "metadata": {},
   "source": [
    "### A perfect classifier will have a diagonal confusion matrix"
   ]
  },
  {
   "cell_type": "code",
   "execution_count": 29,
   "metadata": {},
   "outputs": [
    {
     "data": {
      "text/plain": [
       "array([[54579,     0],\n",
       "       [    0,  5421]])"
      ]
     },
     "execution_count": 29,
     "metadata": {},
     "output_type": "execute_result"
    }
   ],
   "source": [
    "y_train_perfect_predictions = y_train_5\n",
    "confusion_matrix(y_train_5, y_train_perfect_predictions)"
   ]
  },
  {
   "cell_type": "markdown",
   "metadata": {},
   "source": [
    "### Precision and Recall accuracy metrics\n",
    "Precision and recall are defined as:\n",
    "$$\n",
    "\\begin{align}\n",
    "\\text{precision}&=\\frac{TP}{TP+FP}  - \\text{what fraction of the positive outcomes do we predict to be positive}\\\\\n",
    "\\text{recall}&=\\frac{TP}{TP+FN} - \\text{what fraction of our positive predictions are true positive}\n",
    "\\end{align}\n",
    "$$\n",
    "\n",
    "Precision:\n",
    "- measures how often our predictions are correct\n",
    "- sometimes we want high precision classifiers. For example, a parent would want high precision for the web content filter for their kid.\n",
    "- however precision alone is not enough! A good way to make a perfect precision classifier is to have it make a single prediction which is accurate\n",
    "- obviously this would not be useful for say spam filters, because the classifier will accurately predict a single non-spam email but filter out all the other emails some of which are relevant to us!\n",
    "\n",
    "That is why we need recall.\n",
    "\n",
    "Recall:\n",
    "- also called sensitivity, or true positive rate\n",
    "- this is the ratio of the positive instances correctly detected by a classifier\n",
    "- in the spam classifier case, this would be the fraction of the non-spam emails that the classifier detects correctly.\n",
    "\n",
    "Sometimes, we prefer precision over recall and vice-versa. \n",
    "- for example, a parent would prefer a filter that rejects many good videos (i.e. low recall) but is very safe (high precision)\n",
    "- but if you want to classify shop-lifters on camera, you want to have high recall (e.g. capture all shop lifters) even if you precision is low (e.g. sometimes you capture non-shop lifters)\n",
    "\n",
    "A perfect classifier has $\\text{precision}=\\text{recall}=1$. \n",
    "\n",
    "You can see now that the Never5 classifier has zero precision and recall when it comes to predicting 5s. When it comes to predicting non-5s, it has perfect precision, but imperfect recall. This is a signature that our data is imbalanced.\n"
   ]
  },
  {
   "cell_type": "code",
   "execution_count": 30,
   "metadata": {},
   "outputs": [
    {
     "name": "stdout",
     "output_type": "stream",
     "text": [
      "<class 'sklearn.linear_model._stochastic_gradient.SGDClassifier'> :\n",
      "precision: 0.9104352678571429 0.9104352678571429\n",
      "recall: 0.6019184652278178 0.6019184652278178\n",
      "\n",
      "\n",
      "<class 'sklearn.naive_bayes.GaussianNB'> :\n",
      "precision: 0.10614024608768367 0.10614024608768367\n",
      "recall: 0.9833978970669618 0.9833978970669618\n",
      "\n",
      "\n",
      "<class '__main__.Never5Classifier'> :\n",
      "precision: 0.0 nan\n",
      "recall: 0.0 0.0\n",
      "\n",
      "\n"
     ]
    }
   ],
   "source": [
    "from sklearn.metrics import precision_score, recall_score\n",
    "\n",
    "for mclass in dict_y_tpred.keys():\n",
    "    y_train_pred = dict_y_tpred[mclass]\n",
    "    cm = confusion_matrix(y_train_5, y_train_pred)\n",
    "    precision = precision_score(y_train_5, y_train_pred)\n",
    "    recall = recall_score(y_train_5, y_train_pred)\n",
    "    print(mclass,':')\n",
    "    print('precision:', precision, cm[1,1]/(cm[1,1] + cm[0,1]))\n",
    "    print('recall:', recall, cm[1,1]/(cm[1,1] + cm[1,0]))\n",
    "    print('\\n')\n",
    "    "
   ]
  },
  {
   "cell_type": "markdown",
   "metadata": {},
   "source": [
    "### What can you deduce from the above results? How do you compare the SGD Logit classifier to the Gaussian NB classifier?"
   ]
  },
  {
   "cell_type": "markdown",
   "metadata": {},
   "source": [
    "# Precision-Recall Tradeoff\n",
    "\n",
    "Suppose that instead of the actual predictions, we want to get their *scores*. E.g. the SGD classifier has a decision_function() method which produces the score for a given input. The higher the score, the more confident the classifier is that the input classifies as True: "
   ]
  },
  {
   "cell_type": "code",
   "execution_count": 31,
   "metadata": {},
   "outputs": [
    {
     "data": {
      "text/plain": [
       "(array([-12199.59794188]), array([False]))"
      ]
     },
     "execution_count": 31,
     "metadata": {},
     "output_type": "execute_result"
    }
   ],
   "source": [
    "y_score = logit_clf.decision_function([some_digit])\n",
    "y_pred = logit_clf.predict([some_digit])\n",
    "y_score, y_pred"
   ]
  },
  {
   "cell_type": "markdown",
   "metadata": {},
   "source": [
    "#### Actually the SGD classifier uses threshold=0, which corresponds to"
   ]
  },
  {
   "cell_type": "code",
   "execution_count": 32,
   "metadata": {},
   "outputs": [
    {
     "data": {
      "text/plain": [
       "array([False])"
      ]
     },
     "execution_count": 32,
     "metadata": {},
     "output_type": "execute_result"
    }
   ],
   "source": [
    "threshold = 0\n",
    "y_some_digit_pred = (y_score > threshold)\n",
    "y_some_digit_pred"
   ]
  },
  {
   "cell_type": "markdown",
   "metadata": {},
   "source": [
    "#### But had we used a different threshold we could've gotten a different result"
   ]
  },
  {
   "cell_type": "code",
   "execution_count": 33,
   "metadata": {},
   "outputs": [
    {
     "data": {
      "text/plain": [
       "array([ True])"
      ]
     },
     "execution_count": 33,
     "metadata": {},
     "output_type": "execute_result"
    }
   ],
   "source": [
    "threshold = -400000\n",
    "y_some_digit_pred = (y_score > threshold)\n",
    "y_some_digit_pred"
   ]
  },
  {
   "cell_type": "markdown",
   "metadata": {},
   "source": [
    "#### Let's get the scores for all our predictions using the cross_val_predict method"
   ]
  },
  {
   "cell_type": "code",
   "execution_count": 34,
   "metadata": {},
   "outputs": [
    {
     "data": {
      "text/plain": [
       "array([-35483.8327593 , -33526.80737998, -16381.85543806, ...,\n",
       "       -22244.27905364, -56567.80732057, -35208.27432401])"
      ]
     },
     "execution_count": 34,
     "metadata": {},
     "output_type": "execute_result"
    }
   ],
   "source": [
    "y_scores = cross_val_predict(logit_clf, X_train, y_train_5, cv=3,\n",
    "                             method=\"decision_function\")\n",
    "y_scores"
   ]
  },
  {
   "cell_type": "code",
   "execution_count": 35,
   "metadata": {},
   "outputs": [
    {
     "data": {
      "text/plain": [
       "<matplotlib.axes._subplots.AxesSubplot at 0x7fd166049be0>"
      ]
     },
     "execution_count": 35,
     "metadata": {},
     "output_type": "execute_result"
    },
    {
     "data": {
      "image/png": "[encoded data removed]",
      "text/plain": [
       "<Figure size 864x432 with 1 Axes>"
      ]
     },
     "metadata": {},
     "output_type": "display_data"
    }
   ],
   "source": [
    "import pandas as pd\n",
    "pd.Series(y_scores).hist(bins=100, figsize=(12,6))"
   ]
  },
  {
   "cell_type": "markdown",
   "metadata": {},
   "source": [
    "Note: there is an [issue](https://github.com/scikit-learn/scikit-learn/issues/9589) introduced in Scikit-Learn 0.19.0 where the result of `cross_val_predict()` is incorrect in the binary classification case when using `method=\"decision_function\"`, as in the code above. The resulting array has an extra first dimension full of 0s. We need to add this small hack for now to work around this issue:"
   ]
  },
  {
   "cell_type": "code",
   "execution_count": 36,
   "metadata": {},
   "outputs": [
    {
     "data": {
      "text/plain": [
       "(60000,)"
      ]
     },
     "execution_count": 36,
     "metadata": {},
     "output_type": "execute_result"
    }
   ],
   "source": [
    "y_scores.shape"
   ]
  },
  {
   "cell_type": "code",
   "execution_count": 37,
   "metadata": {},
   "outputs": [
    {
     "data": {
      "text/plain": [
       "array([-35483.8327593 , -33526.80737998, -16381.85543806, -29248.04335469,\n",
       "       -27846.64731634])"
      ]
     },
     "execution_count": 37,
     "metadata": {},
     "output_type": "execute_result"
    }
   ],
   "source": [
    "y_scores[:5]"
   ]
  },
  {
   "cell_type": "code",
   "execution_count": 38,
   "metadata": {
    "collapsed": true,
    "jupyter": {
     "outputs_hidden": true
    }
   },
   "outputs": [],
   "source": [
    "# hack to work around issue #9589 introduced in Scikit-Learn 0.19.0\n",
    "if y_scores.ndim == 2:\n",
    "    y_scores = y_scores[:, 1]"
   ]
  },
  {
   "cell_type": "markdown",
   "metadata": {},
   "source": [
    "#### SKlearn has a percision_recall_curve method which varies the threshold and for each threshold value it computes the precision and recall scores"
   ]
  },
  {
   "cell_type": "code",
   "execution_count": 39,
   "metadata": {
    "collapsed": true,
    "jupyter": {
     "outputs_hidden": true
    }
   },
   "outputs": [],
   "source": [
    "from sklearn.metrics import precision_recall_curve\n",
    "\n",
    "precisions, recalls, thresholds = precision_recall_curve(\n",
    "    y_train_5, y_scores)"
   ]
  },
  {
   "cell_type": "markdown",
   "metadata": {},
   "source": [
    "### The plot below illustrates the precision-recall tradeoff\n",
    "\n",
    "Basically, if we increase the threshold on our classifier, we will increase the clasifier's precision as we will only classify the true positives that have a very high score. But at the same time we will miss on those true positives which the classifier gave a low score. So we will decrease the recall:\n"
   ]
  },
  {
   "cell_type": "code",
   "execution_count": 40,
   "metadata": {},
   "outputs": [
    {
     "data": {
      "image/png": "[encoded data removed]",
      "text/plain": [
       "<Figure size 576x288 with 1 Axes>"
      ]
     },
     "metadata": {},
     "output_type": "display_data"
    }
   ],
   "source": [
    "def plot_precision_recall_vs_threshold(precisions, recalls, thresholds):\n",
    "    plt.plot(thresholds, precisions[:-1], \"b--\", label=\"Precision\", linewidth=2)\n",
    "    plt.plot(thresholds, recalls[:-1], \"g-\", label=\"Recall\", linewidth=2)\n",
    "    plt.xlabel(\"Threshold\", fontsize=16)\n",
    "    plt.legend(loc=\"upper left\", fontsize=16)\n",
    "    plt.ylim([0, 1])\n",
    "\n",
    "plt.figure(figsize=(8, 4))\n",
    "plot_precision_recall_vs_threshold(precisions, recalls, thresholds)\n",
    "plt.xlim([-700000, 700000])\n",
    "plt.show()"
   ]
  },
  {
   "cell_type": "markdown",
   "metadata": {},
   "source": [
    "### In the case of the Gaussian Naive Bayes model, instead of score function there is a predict_proba function\n",
    "\n",
    "But as you can see below, the probability for the naive bayes is not a continuum, but a discrete variable, so varying the threshold doesn't really do anything for us"
   ]
  },
  {
   "cell_type": "code",
   "execution_count": 41,
   "metadata": {},
   "outputs": [
    {
     "data": {
      "image/png": "[encoded data removed]",
      "text/plain": [
       "<Figure size 432x288 with 1 Axes>"
      ]
     },
     "metadata": {},
     "output_type": "display_data"
    },
    {
     "data": {
      "image/png": "[encoded data removed]",
      "text/plain": [
       "<Figure size 576x288 with 1 Axes>"
      ]
     },
     "metadata": {},
     "output_type": "display_data"
    }
   ],
   "source": [
    "y_scores_nb = cross_val_predict(gnb_clf, X_train, y_train_5, cv=3,\n",
    "                             method=\"predict_proba\")[:, 1]\n",
    "plt.hist(y_scores_nb)\n",
    "plt.show()\n",
    "\n",
    "precisions_nb, recalls_nb, thresholds_nb = precision_recall_curve(\n",
    "    y_train_5, y_scores_nb)\n",
    "\n",
    "plt.figure(figsize=(8, 4))\n",
    "plot_precision_recall_vs_threshold(precisions_nb, recalls_nb, thresholds_nb)\n",
    "plt.xlim([-700000, 700000])\n",
    "plt.show()"
   ]
  },
  {
   "cell_type": "code",
   "execution_count": 42,
   "metadata": {},
   "outputs": [
    {
     "data": {
      "image/png": "[encoded data removed]",
      "text/plain": [
       "<Figure size 576x432 with 1 Axes>"
      ]
     },
     "metadata": {},
     "output_type": "display_data"
    }
   ],
   "source": [
    "def plot_precision_vs_recall(precisions, recalls, color='b-'):\n",
    "    plt.plot(recalls, precisions, color, linewidth=2)\n",
    "    plt.xlabel(\"Recall\", fontsize=16)\n",
    "    plt.ylabel(\"Precision\", fontsize=16)\n",
    "    plt.axis([0, 1, 0, 1])\n",
    "\n",
    "plt.figure(figsize=(8, 6))\n",
    "plot_precision_vs_recall(precisions, recalls, color='g-')\n",
    "plot_precision_vs_recall(precisions_nb, recalls_nb)\n",
    "plt.show()"
   ]
  },
  {
   "cell_type": "markdown",
   "metadata": {},
   "source": [
    "### How does the P-R curve look for a great classifier? Is the SGD a great classifier?\n",
    "\n",
    "- In general, when we compare two classifiers it only makes sense to compare their precision for fixed recall or vice versa.\n",
    "- Which one of the two classifiers is better: the NGB or the SGD Logistic Regression?\n"
   ]
  },
  {
   "cell_type": "markdown",
   "metadata": {},
   "source": [
    "# ROC curves\n",
    "\n",
    "The Receiver Operating Characteristic curve is another way to measure the accuracy of a classifier. Basically we plot the True Positive rate vs the False Positive rate.\n",
    "\n",
    "$$\n",
    "\\begin{align}\n",
    "\\text{TP Rate} & = \\frac{TP}{P}=\\frac{TP}{TP+FN}\\\\\n",
    "\\text{FP Rate} & = \\frac{FP}{N}= \\frac{FP}{FP+TN}\\\\\n",
    "\\end{align}\n",
    "$$\n",
    "\n",
    "- A pure random classifier will have a diagonal ROC curve. Can you see why?"
   ]
  },
  {
   "cell_type": "code",
   "execution_count": 43,
   "metadata": {
    "collapsed": true,
    "jupyter": {
     "outputs_hidden": true
    }
   },
   "outputs": [],
   "source": [
    "from sklearn.metrics import roc_curve\n",
    "\n",
    "fpr, tpr, thresholds = roc_curve(y_train_5, y_scores)\n",
    "fpr_nb, tpr_nb, thresholds_nb = roc_curve(y_train_5, y_scores_nb)"
   ]
  },
  {
   "cell_type": "code",
   "execution_count": null,
   "metadata": {
    "collapsed": true,
    "jupyter": {
     "outputs_hidden": true
    }
   },
   "outputs": [],
   "source": []
  },
  {
   "cell_type": "code",
   "execution_count": 44,
   "metadata": {},
   "outputs": [
    {
     "data": {
      "image/png": "[encoded data removed]",
      "text/plain": [
       "<Figure size 576x432 with 1 Axes>"
      ]
     },
     "metadata": {},
     "output_type": "display_data"
    }
   ],
   "source": [
    "def plot_roc_curve(fpr, tpr, label=None, color='b-'):\n",
    "    plt.plot(fpr, tpr, color, linewidth=2, label=label)\n",
    "    plt.plot([0, 1], [0, 1], 'k--')\n",
    "    plt.axis([0, 1, 0, 1])\n",
    "    plt.xlabel('False Positive Rate', fontsize=16)\n",
    "    plt.ylabel('True Positive Rate', fontsize=16)\n",
    "\n",
    "plt.figure(figsize=(8, 6))\n",
    "plot_roc_curve(fpr, tpr, color='g-')\n",
    "plot_roc_curve(fpr_nb, tpr_nb)\n",
    "plt.show()"
   ]
  },
  {
   "cell_type": "markdown",
   "metadata": {},
   "source": [
    "#### Let's compare to another SGD model with a different loss function"
   ]
  },
  {
   "cell_type": "code",
   "execution_count": 45,
   "metadata": {},
   "outputs": [
    {
     "data": {
      "text/plain": [
       "SGDClassifier(max_iter=5, random_state=42, tol=-inf)"
      ]
     },
     "execution_count": 45,
     "metadata": {},
     "output_type": "execute_result"
    }
   ],
   "source": [
    "#this loss corresponds to SVM as we will see later\n",
    "hinge_clf = SGDClassifier(random_state=42, loss='hinge', max_iter=5, tol=-np.infty) \n",
    "hinge_clf.fit(X_train, y_train_5)\n"
   ]
  },
  {
   "cell_type": "code",
   "execution_count": 46,
   "metadata": {
    "collapsed": true,
    "jupyter": {
     "outputs_hidden": true
    }
   },
   "outputs": [],
   "source": [
    "y_scores_hinge = cross_val_predict(hinge_clf, X_train, y_train_5, cv=3,\n",
    "                                    method=\"decision_function\")\n",
    "\n",
    "# hack to work around issue #9589 introduced in Scikit-Learn 0.19.0\n",
    "if y_scores_hinge.ndim == 2:\n",
    "    y_scores_hinge = y_scores_hinge[:, 1]\n",
    "    \n",
    "fpr_hinge, tpr_hinge, thresholds_hinge = roc_curve(\n",
    "    y_train_5,y_scores_hinge)"
   ]
  },
  {
   "cell_type": "code",
   "execution_count": 47,
   "metadata": {},
   "outputs": [
    {
     "data": {
      "image/png": "[encoded data removed]",
      "text/plain": [
       "<Figure size 576x432 with 1 Axes>"
      ]
     },
     "metadata": {},
     "output_type": "display_data"
    }
   ],
   "source": [
    "plt.figure(figsize=(8, 6))\n",
    "plt.plot(fpr, tpr, \"b:\", linewidth=2, label=\"SGD Logit\")\n",
    "plot_roc_curve(fpr_hinge, tpr_hinge, \"SGD Hinge\")\n",
    "plt.legend(loc=\"lower right\", fontsize=16)\n",
    "plt.title('Which one is the better model?')\n",
    "plt.show()"
   ]
  },
  {
   "cell_type": "code",
   "execution_count": 48,
   "metadata": {},
   "outputs": [
    {
     "name": "stdout",
     "output_type": "stream",
     "text": [
      "Area under the curve:\n",
      "\tSGD Logit AUC: 0.9609081821554244 \n",
      " \tSGD Hinge AUC: 0.9618374414117657\n"
     ]
    }
   ],
   "source": [
    "\n",
    "\n",
    "from sklearn.metrics import roc_auc_score\n",
    "\n",
    "print('Area under the curve:')\n",
    "print(\n",
    "    '\\tSGD Logit AUC:', roc_auc_score(y_train_5, y_scores), '\\n',\n",
    "    '\\tSGD Hinge AUC:', roc_auc_score(y_train_5, y_scores_hinge)) "
   ]
  },
  {
   "cell_type": "markdown",
   "metadata": {},
   "source": [
    "### Question: When do we use ROC vs Precision/Recall?\n"
   ]
  },
  {
   "cell_type": "code",
   "execution_count": null,
   "metadata": {
    "collapsed": true,
    "jupyter": {
     "outputs_hidden": true
    }
   },
   "outputs": [],
   "source": []
  }
 ],
 "metadata": {
  "kernelspec": {
   "display_name": "Python 3 (ipykernel)",
   "language": "python",
   "name": "python3"
  },
  "language_info": {
   "codemirror_mode": {
    "name": "ipython",
    "version": 3
   },
   "file_extension": ".py",
   "mimetype": "text/x-python",
   "name": "python",
   "nbconvert_exporter": "python",
   "pygments_lexer": "ipython3",
   "version": "3.9.12"
  },
  "nav_menu": {},
  "toc": {
   "navigate_menu": true,
   "number_sections": true,
   "sideBar": true,
   "threshold": 6,
   "toc_cell": false,
   "toc_section_display": "block",
   "toc_window_display": false
  }
 },
 "nbformat": 4,
 "nbformat_minor": 4
}
