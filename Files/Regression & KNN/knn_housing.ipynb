{
 "cells": [
  {
   "cell_type": "markdown",
   "id": "a3aab6ce-5eeb-48f2-9cbb-8b07a3a8d6ff",
   "metadata": {},
   "source": [
    "# <center> K-NN for California Housing </center>"
   ]
  },
  {
   "cell_type": "markdown",
   "id": "47dcc5bb-154a-4b5a-8f81-1852c981085f",
   "metadata": {},
   "source": [
    "&copy; 2023 Kaiwen Zhou"
   ]
  },
  {
   "cell_type": "code",
   "execution_count": 1,
   "id": "34e5eac2-1c17-48ab-b379-45cb899369ad",
   "metadata": {},
   "outputs": [],
   "source": [
    "# To support both python 2 and python 3\n",
    "from __future__ import division, print_function, unicode_literals\n",
    "\n",
    "# Common imports\n",
    "import numpy as np\n",
    "import os\n",
    "\n",
    "# to make this notebook's output stable across runs\n",
    "np.random.seed(42)\n",
    "\n",
    "# To plot pretty figures\n",
    "%matplotlib inline\n",
    "import matplotlib\n",
    "import matplotlib.pyplot as plt\n",
    "plt.rcParams['axes.labelsize'] = 14\n",
    "plt.rcParams['xtick.labelsize'] = 12\n",
    "plt.rcParams['ytick.labelsize'] = 12"
   ]
  },
  {
   "cell_type": "markdown",
   "id": "ffdf927d-4129-48de-8d19-b4d8d696f644",
   "metadata": {},
   "source": [
    "# Load Data"
   ]
  },
  {
   "cell_type": "code",
   "execution_count": 2,
   "id": "3a0fb871-8be4-447f-a644-18f7d11e48e3",
   "metadata": {},
   "outputs": [],
   "source": [
    "import os\n",
    "import tarfile  # Read and write tar archive files\n",
    "from six.moves import urllib  # compatible with both Python 2 and Python 3\n",
    "\n",
    "DOWNLOAD_ROOT = \"https://raw.githubusercontent.com/ageron/handson-ml/master/\"\n",
    "HOUSING_PATH = os.path.join(\"datasets\", \"housing\")\n",
    "HOUSING_URL = DOWNLOAD_ROOT + \"datasets/housing/housing.tgz\"\n",
    "\n",
    "def fetch_housing_data(housing_url=HOUSING_URL, housing_path=HOUSING_PATH):\n",
    "    \"\"\"\n",
    "    Download data and put it in the right place\n",
    "    \"\"\"\n",
    "    if not os.path.isdir(housing_path):\n",
    "        os.makedirs(housing_path)\n",
    "        \n",
    "    tgz_path = os.path.join(housing_path, \"housing.tgz\")\n",
    "    if not os.path.isfile(tgz_path): # download data if not already there\n",
    "        urllib.request.urlretrieve(housing_url, tgz_path)\n",
    "        \n",
    "    housing_tgz = tarfile.open(tgz_path)\n",
    "    housing_tgz.extractall(path=housing_path)\n",
    "    housing_tgz.close()"
   ]
  },
  {
   "cell_type": "code",
   "execution_count": 3,
   "id": "b6e96940-0ff9-4562-a207-f5631e366922",
   "metadata": {},
   "outputs": [],
   "source": [
    "fetch_housing_data()"
   ]
  },
  {
   "cell_type": "markdown",
   "id": "1139f433-3a04-40de-96d0-8577635aa265",
   "metadata": {},
   "source": [
    "# Import Data"
   ]
  },
  {
   "cell_type": "code",
   "execution_count": 4,
   "id": "0c27e9e3-f51b-46fb-ab73-9316543a93fb",
   "metadata": {},
   "outputs": [],
   "source": [
    "import pandas as pd\n",
    "\n",
    "def load_housing_data(housing_path=HOUSING_PATH):\n",
    "    \"\"\"\n",
    "    From .tgz ---> csv\n",
    "    \"\"\"\n",
    "    csv_path = os.path.join(housing_path, \"housing.csv\")\n",
    "    return pd.read_csv(csv_path)"
   ]
  },
  {
   "cell_type": "markdown",
   "id": "86e0bddd-6907-4513-8263-c321fb80f168",
   "metadata": {},
   "source": [
    "# Check Attributes"
   ]
  },
  {
   "cell_type": "code",
   "execution_count": 5,
   "id": "0ee1aaec-8645-40b9-8ddc-c160f77c1cf5",
   "metadata": {},
   "outputs": [
    {
     "data": {
      "text/html": [
       "<div>\n",
       "<style scoped>\n",
       "    .dataframe tbody tr th:only-of-type {\n",
       "        vertical-align: middle;\n",
       "    }\n",
       "\n",
       "    .dataframe tbody tr th {\n",
       "        vertical-align: top;\n",
       "    }\n",
       "\n",
       "    .dataframe thead th {\n",
       "        text-align: right;\n",
       "    }\n",
       "</style>\n",
       "<table border=\"1\" class=\"dataframe\">\n",
       "  <thead>\n",
       "    <tr style=\"text-align: right;\">\n",
       "      <th></th>\n",
       "      <th>longitude</th>\n",
       "      <th>latitude</th>\n",
       "      <th>housing_median_age</th>\n",
       "      <th>total_rooms</th>\n",
       "      <th>total_bedrooms</th>\n",
       "      <th>population</th>\n",
       "      <th>households</th>\n",
       "      <th>median_income</th>\n",
       "      <th>median_house_value</th>\n",
       "      <th>ocean_proximity</th>\n",
       "    </tr>\n",
       "  </thead>\n",
       "  <tbody>\n",
       "    <tr>\n",
       "      <th>0</th>\n",
       "      <td>-122.23</td>\n",
       "      <td>37.88</td>\n",
       "      <td>41.0</td>\n",
       "      <td>880.0</td>\n",
       "      <td>129.0</td>\n",
       "      <td>322.0</td>\n",
       "      <td>126.0</td>\n",
       "      <td>8.3252</td>\n",
       "      <td>452600.0</td>\n",
       "      <td>NEAR BAY</td>\n",
       "    </tr>\n",
       "    <tr>\n",
       "      <th>1</th>\n",
       "      <td>-122.22</td>\n",
       "      <td>37.86</td>\n",
       "      <td>21.0</td>\n",
       "      <td>7099.0</td>\n",
       "      <td>1106.0</td>\n",
       "      <td>2401.0</td>\n",
       "      <td>1138.0</td>\n",
       "      <td>8.3014</td>\n",
       "      <td>358500.0</td>\n",
       "      <td>NEAR BAY</td>\n",
       "    </tr>\n",
       "    <tr>\n",
       "      <th>2</th>\n",
       "      <td>-122.24</td>\n",
       "      <td>37.85</td>\n",
       "      <td>52.0</td>\n",
       "      <td>1467.0</td>\n",
       "      <td>190.0</td>\n",
       "      <td>496.0</td>\n",
       "      <td>177.0</td>\n",
       "      <td>7.2574</td>\n",
       "      <td>352100.0</td>\n",
       "      <td>NEAR BAY</td>\n",
       "    </tr>\n",
       "    <tr>\n",
       "      <th>3</th>\n",
       "      <td>-122.25</td>\n",
       "      <td>37.85</td>\n",
       "      <td>52.0</td>\n",
       "      <td>1274.0</td>\n",
       "      <td>235.0</td>\n",
       "      <td>558.0</td>\n",
       "      <td>219.0</td>\n",
       "      <td>5.6431</td>\n",
       "      <td>341300.0</td>\n",
       "      <td>NEAR BAY</td>\n",
       "    </tr>\n",
       "    <tr>\n",
       "      <th>4</th>\n",
       "      <td>-122.25</td>\n",
       "      <td>37.85</td>\n",
       "      <td>52.0</td>\n",
       "      <td>1627.0</td>\n",
       "      <td>280.0</td>\n",
       "      <td>565.0</td>\n",
       "      <td>259.0</td>\n",
       "      <td>3.8462</td>\n",
       "      <td>342200.0</td>\n",
       "      <td>NEAR BAY</td>\n",
       "    </tr>\n",
       "  </tbody>\n",
       "</table>\n",
       "</div>"
      ],
      "text/plain": [
       "   longitude  latitude  housing_median_age  total_rooms  total_bedrooms  \\\n",
       "0    -122.23     37.88                41.0        880.0           129.0   \n",
       "1    -122.22     37.86                21.0       7099.0          1106.0   \n",
       "2    -122.24     37.85                52.0       1467.0           190.0   \n",
       "3    -122.25     37.85                52.0       1274.0           235.0   \n",
       "4    -122.25     37.85                52.0       1627.0           280.0   \n",
       "\n",
       "   population  households  median_income  median_house_value ocean_proximity  \n",
       "0       322.0       126.0         8.3252            452600.0        NEAR BAY  \n",
       "1      2401.0      1138.0         8.3014            358500.0        NEAR BAY  \n",
       "2       496.0       177.0         7.2574            352100.0        NEAR BAY  \n",
       "3       558.0       219.0         5.6431            341300.0        NEAR BAY  \n",
       "4       565.0       259.0         3.8462            342200.0        NEAR BAY  "
      ]
     },
     "execution_count": 5,
     "metadata": {},
     "output_type": "execute_result"
    }
   ],
   "source": [
    "housing = load_housing_data()\n",
    "housing.head()"
   ]
  },
  {
   "cell_type": "code",
   "execution_count": 6,
   "id": "c11761de-eb18-4c78-9d60-7863bd94546b",
   "metadata": {},
   "outputs": [
    {
     "name": "stdout",
     "output_type": "stream",
     "text": [
      "<class 'pandas.core.frame.DataFrame'>\n",
      "RangeIndex: 20640 entries, 0 to 20639\n",
      "Data columns (total 10 columns):\n",
      " #   Column              Non-Null Count  Dtype  \n",
      "---  ------              --------------  -----  \n",
      " 0   longitude           20640 non-null  float64\n",
      " 1   latitude            20640 non-null  float64\n",
      " 2   housing_median_age  20640 non-null  float64\n",
      " 3   total_rooms         20640 non-null  float64\n",
      " 4   total_bedrooms      20433 non-null  float64\n",
      " 5   population          20640 non-null  float64\n",
      " 6   households          20640 non-null  float64\n",
      " 7   median_income       20640 non-null  float64\n",
      " 8   median_house_value  20640 non-null  float64\n",
      " 9   ocean_proximity     20640 non-null  object \n",
      "dtypes: float64(9), object(1)\n",
      "memory usage: 1.6+ MB\n"
     ]
    }
   ],
   "source": [
    "# Note that there is a mixture of floats and categorical features\n",
    "housing.info()"
   ]
  },
  {
   "cell_type": "markdown",
   "id": "cf8faffa-201b-47e0-95a1-7b18daa9d71c",
   "metadata": {},
   "source": [
    "# Analyze the ocean_proximity feature"
   ]
  },
  {
   "cell_type": "code",
   "execution_count": 7,
   "id": "1217e838-a44a-4402-b376-b603cf7d1ebe",
   "metadata": {},
   "outputs": [
    {
     "data": {
      "text/plain": [
       "<1H OCEAN     9136\n",
       "INLAND        6551\n",
       "NEAR OCEAN    2658\n",
       "NEAR BAY      2290\n",
       "ISLAND           5\n",
       "Name: ocean_proximity, dtype: int64"
      ]
     },
     "execution_count": 7,
     "metadata": {},
     "output_type": "execute_result"
    }
   ],
   "source": [
    "# These are the categorical features\n",
    "housing[\"ocean_proximity\"].value_counts()"
   ]
  },
  {
   "cell_type": "code",
   "execution_count": 8,
   "id": "b9c38764-0ea7-4d81-80c9-0fe406d71ac4",
   "metadata": {},
   "outputs": [
    {
     "data": {
      "text/plain": [
       "<AxesSubplot:>"
      ]
     },
     "execution_count": 8,
     "metadata": {},
     "output_type": "execute_result"
    },
    {
     "data": {
      "image/png": "[encoded data removed]",
      "text/plain": [
       "<Figure size 432x288 with 1 Axes>"
      ]
     },
     "metadata": {
      "needs_background": "light"
     },
     "output_type": "display_data"
    }
   ],
   "source": [
    "housing[\"ocean_proximity\"].value_counts().plot.bar()"
   ]
  },
  {
   "cell_type": "markdown",
   "id": "91bb35c1-b071-4a58-bd47-3840fbd3fa57",
   "metadata": {},
   "source": [
    "**We can see from the bar chart above that the ocean_proximity distribution is very skewed.**\n",
    "\n",
    "**If we use random selection, the train_set or the test_set or both might be biased. Then, we will train our model on a biased dataset which will eventually produce a biased result.**\n",
    "\n",
    "**Hence, we have to stratify our data against the distribution of the ocean_proximity feature to make the train_set and the test_test proportional to the overall sample dataset.**"
   ]
  },
  {
   "cell_type": "markdown",
   "id": "01bbc923-b01f-442b-8361-ba2a5ec525b6",
   "metadata": {},
   "source": [
    "# Train-Test Split with Stratify"
   ]
  },
  {
   "cell_type": "code",
   "execution_count": 9,
   "id": "9e960f4d-212f-4f27-b295-17e631e2b185",
   "metadata": {},
   "outputs": [],
   "source": [
    "from sklearn.model_selection import train_test_split\n",
    "from sklearn.model_selection import StratifiedShuffleSplit\n",
    "\n",
    "split = StratifiedShuffleSplit(n_splits=1, test_size=0.2, random_state=30)\n",
    "for train_index, test_index in split.split(housing, housing[\"ocean_proximity\"]):\n",
    "    strat_train_set = housing.loc[train_index]\n",
    "    strat_test_set = housing.loc[test_index]"
   ]
  },
  {
   "cell_type": "code",
   "execution_count": 10,
   "id": "7cab9f74-6245-4d3d-861a-a3e89926485e",
   "metadata": {},
   "outputs": [
    {
     "data": {
      "text/plain": [
       "<1H OCEAN     0.442636\n",
       "INLAND        0.317393\n",
       "NEAR OCEAN    0.128779\n",
       "NEAR BAY      0.110950\n",
       "ISLAND        0.000242\n",
       "Name: ocean_proximity, dtype: float64"
      ]
     },
     "execution_count": 10,
     "metadata": {},
     "output_type": "execute_result"
    }
   ],
   "source": [
    "housing[\"ocean_proximity\"].value_counts() / len(housing)"
   ]
  },
  {
   "cell_type": "code",
   "execution_count": 11,
   "id": "b64e3d8d-434d-4906-8238-cc2a7edb0f03",
   "metadata": {},
   "outputs": [],
   "source": [
    "# Let's verify....\n",
    "\n",
    "# Overall Distribution for ocean_proximity\n",
    "def income_cat_proportions(data):\n",
    "    return data[\"ocean_proximity\"].value_counts() / len(data)\n",
    "\n",
    "# Ordinary train_test_split\n",
    "train_set, test_set = train_test_split(housing, test_size=0.2, random_state=30)\n",
    "\n",
    "# Calculate the Overall Distribution, the Stratified Split Distribution\n",
    "# and the Random (Ordinary) Split Distribution\n",
    "compare_props = pd.DataFrame({\n",
    "    \"Overall\": income_cat_proportions(housing),\n",
    "    \"Stratified\": income_cat_proportions(strat_test_set),\n",
    "    \"Random\": income_cat_proportions(test_set),\n",
    "}).sort_index()\n",
    "compare_props[\"Rand. %error\"] = 100 * compare_props[\"Random\"] / compare_props[\"Overall\"] - 100\n",
    "compare_props[\"Strat. %error\"] = 100 * compare_props[\"Stratified\"] / compare_props[\"Overall\"] - 100"
   ]
  },
  {
   "cell_type": "markdown",
   "id": "7205b72f-a66a-4cfe-8a60-d9c18e98bf1f",
   "metadata": {},
   "source": [
    "Let's compare!"
   ]
  },
  {
   "cell_type": "code",
   "execution_count": 12,
   "id": "885525ca-7772-4bb5-9d37-c0986623a761",
   "metadata": {},
   "outputs": [
    {
     "data": {
      "text/html": [
       "<div>\n",
       "<style scoped>\n",
       "    .dataframe tbody tr th:only-of-type {\n",
       "        vertical-align: middle;\n",
       "    }\n",
       "\n",
       "    .dataframe tbody tr th {\n",
       "        vertical-align: top;\n",
       "    }\n",
       "\n",
       "    .dataframe thead th {\n",
       "        text-align: right;\n",
       "    }\n",
       "</style>\n",
       "<table border=\"1\" class=\"dataframe\">\n",
       "  <thead>\n",
       "    <tr style=\"text-align: right;\">\n",
       "      <th></th>\n",
       "      <th>Overall</th>\n",
       "      <th>Stratified</th>\n",
       "      <th>Random</th>\n",
       "      <th>Rand. %error</th>\n",
       "      <th>Strat. %error</th>\n",
       "    </tr>\n",
       "  </thead>\n",
       "  <tbody>\n",
       "    <tr>\n",
       "      <th>&lt;1H OCEAN</th>\n",
       "      <td>0.442636</td>\n",
       "      <td>0.442587</td>\n",
       "      <td>0.448401</td>\n",
       "      <td>1.302539</td>\n",
       "      <td>-1.094571e-02</td>\n",
       "    </tr>\n",
       "    <tr>\n",
       "      <th>INLAND</th>\n",
       "      <td>0.317393</td>\n",
       "      <td>0.317345</td>\n",
       "      <td>0.315407</td>\n",
       "      <td>-0.625859</td>\n",
       "      <td>-1.526485e-02</td>\n",
       "    </tr>\n",
       "    <tr>\n",
       "      <th>ISLAND</th>\n",
       "      <td>0.000242</td>\n",
       "      <td>0.000242</td>\n",
       "      <td>NaN</td>\n",
       "      <td>NaN</td>\n",
       "      <td>1.421085e-14</td>\n",
       "    </tr>\n",
       "    <tr>\n",
       "      <th>NEAR BAY</th>\n",
       "      <td>0.110950</td>\n",
       "      <td>0.110950</td>\n",
       "      <td>0.110950</td>\n",
       "      <td>0.000000</td>\n",
       "      <td>0.000000e+00</td>\n",
       "    </tr>\n",
       "    <tr>\n",
       "      <th>NEAR OCEAN</th>\n",
       "      <td>0.128779</td>\n",
       "      <td>0.128876</td>\n",
       "      <td>0.125242</td>\n",
       "      <td>-2.746426</td>\n",
       "      <td>7.524454e-02</td>\n",
       "    </tr>\n",
       "  </tbody>\n",
       "</table>\n",
       "</div>"
      ],
      "text/plain": [
       "             Overall  Stratified    Random  Rand. %error  Strat. %error\n",
       "<1H OCEAN   0.442636    0.442587  0.448401      1.302539  -1.094571e-02\n",
       "INLAND      0.317393    0.317345  0.315407     -0.625859  -1.526485e-02\n",
       "ISLAND      0.000242    0.000242       NaN           NaN   1.421085e-14\n",
       "NEAR BAY    0.110950    0.110950  0.110950      0.000000   0.000000e+00\n",
       "NEAR OCEAN  0.128779    0.128876  0.125242     -2.746426   7.524454e-02"
      ]
     },
     "execution_count": 12,
     "metadata": {},
     "output_type": "execute_result"
    }
   ],
   "source": [
    "compare_props"
   ]
  },
  {
   "cell_type": "markdown",
   "id": "02b6b684-fc45-4e6e-8d0f-a0f2e5d7d56a",
   "metadata": {},
   "source": [
    "# Prepare the data for Machine Learning algorithms"
   ]
  },
  {
   "cell_type": "markdown",
   "id": "5f1e7027-0e78-4bba-a1cb-96fd6e114cad",
   "metadata": {},
   "source": [
    "# Check our train_set"
   ]
  },
  {
   "cell_type": "code",
   "execution_count": 13,
   "id": "2e422d88-0583-421b-8c48-e207e1f6b7f4",
   "metadata": {},
   "outputs": [],
   "source": [
    "housing = strat_train_set"
   ]
  },
  {
   "cell_type": "code",
   "execution_count": 14,
   "id": "bebd1e41-bd35-4e69-a2fc-4be55f52e623",
   "metadata": {},
   "outputs": [
    {
     "data": {
      "text/plain": [
       "(16512, 10)"
      ]
     },
     "execution_count": 14,
     "metadata": {},
     "output_type": "execute_result"
    }
   ],
   "source": [
    "housing.shape"
   ]
  },
  {
   "cell_type": "code",
   "execution_count": 15,
   "id": "25c32e66-f2ec-4ea4-9fb7-d3355ddbf55c",
   "metadata": {},
   "outputs": [
    {
     "data": {
      "text/html": [
       "<div>\n",
       "<style scoped>\n",
       "    .dataframe tbody tr th:only-of-type {\n",
       "        vertical-align: middle;\n",
       "    }\n",
       "\n",
       "    .dataframe tbody tr th {\n",
       "        vertical-align: top;\n",
       "    }\n",
       "\n",
       "    .dataframe thead th {\n",
       "        text-align: right;\n",
       "    }\n",
       "</style>\n",
       "<table border=\"1\" class=\"dataframe\">\n",
       "  <thead>\n",
       "    <tr style=\"text-align: right;\">\n",
       "      <th></th>\n",
       "      <th>longitude</th>\n",
       "      <th>latitude</th>\n",
       "      <th>housing_median_age</th>\n",
       "      <th>total_rooms</th>\n",
       "      <th>total_bedrooms</th>\n",
       "      <th>population</th>\n",
       "      <th>households</th>\n",
       "      <th>median_income</th>\n",
       "      <th>median_house_value</th>\n",
       "      <th>ocean_proximity</th>\n",
       "    </tr>\n",
       "  </thead>\n",
       "  <tbody>\n",
       "    <tr>\n",
       "      <th>13291</th>\n",
       "      <td>-117.66</td>\n",
       "      <td>34.07</td>\n",
       "      <td>33.0</td>\n",
       "      <td>2081.0</td>\n",
       "      <td>409.0</td>\n",
       "      <td>1008.0</td>\n",
       "      <td>375.0</td>\n",
       "      <td>2.5870</td>\n",
       "      <td>138100.0</td>\n",
       "      <td>INLAND</td>\n",
       "    </tr>\n",
       "    <tr>\n",
       "      <th>12668</th>\n",
       "      <td>-121.44</td>\n",
       "      <td>38.48</td>\n",
       "      <td>12.0</td>\n",
       "      <td>4929.0</td>\n",
       "      <td>1010.0</td>\n",
       "      <td>2621.0</td>\n",
       "      <td>870.0</td>\n",
       "      <td>2.7262</td>\n",
       "      <td>109800.0</td>\n",
       "      <td>INLAND</td>\n",
       "    </tr>\n",
       "    <tr>\n",
       "      <th>3753</th>\n",
       "      <td>-118.39</td>\n",
       "      <td>34.17</td>\n",
       "      <td>40.0</td>\n",
       "      <td>1696.0</td>\n",
       "      <td>372.0</td>\n",
       "      <td>835.0</td>\n",
       "      <td>385.0</td>\n",
       "      <td>3.6563</td>\n",
       "      <td>222400.0</td>\n",
       "      <td>&lt;1H OCEAN</td>\n",
       "    </tr>\n",
       "    <tr>\n",
       "      <th>7727</th>\n",
       "      <td>-118.12</td>\n",
       "      <td>33.93</td>\n",
       "      <td>27.0</td>\n",
       "      <td>580.0</td>\n",
       "      <td>143.0</td>\n",
       "      <td>466.0</td>\n",
       "      <td>133.0</td>\n",
       "      <td>3.0909</td>\n",
       "      <td>187500.0</td>\n",
       "      <td>&lt;1H OCEAN</td>\n",
       "    </tr>\n",
       "    <tr>\n",
       "      <th>14903</th>\n",
       "      <td>-117.07</td>\n",
       "      <td>32.60</td>\n",
       "      <td>13.0</td>\n",
       "      <td>1607.0</td>\n",
       "      <td>435.0</td>\n",
       "      <td>983.0</td>\n",
       "      <td>400.0</td>\n",
       "      <td>2.2903</td>\n",
       "      <td>106300.0</td>\n",
       "      <td>NEAR OCEAN</td>\n",
       "    </tr>\n",
       "  </tbody>\n",
       "</table>\n",
       "</div>"
      ],
      "text/plain": [
       "       longitude  latitude  housing_median_age  total_rooms  total_bedrooms  \\\n",
       "13291    -117.66     34.07                33.0       2081.0           409.0   \n",
       "12668    -121.44     38.48                12.0       4929.0          1010.0   \n",
       "3753     -118.39     34.17                40.0       1696.0           372.0   \n",
       "7727     -118.12     33.93                27.0        580.0           143.0   \n",
       "14903    -117.07     32.60                13.0       1607.0           435.0   \n",
       "\n",
       "       population  households  median_income  median_house_value  \\\n",
       "13291      1008.0       375.0         2.5870            138100.0   \n",
       "12668      2621.0       870.0         2.7262            109800.0   \n",
       "3753        835.0       385.0         3.6563            222400.0   \n",
       "7727        466.0       133.0         3.0909            187500.0   \n",
       "14903       983.0       400.0         2.2903            106300.0   \n",
       "\n",
       "      ocean_proximity  \n",
       "13291          INLAND  \n",
       "12668          INLAND  \n",
       "3753        <1H OCEAN  \n",
       "7727        <1H OCEAN  \n",
       "14903      NEAR OCEAN  "
      ]
     },
     "execution_count": 15,
     "metadata": {},
     "output_type": "execute_result"
    }
   ],
   "source": [
    "housing.head()"
   ]
  },
  {
   "cell_type": "markdown",
   "id": "b7126055-f273-4437-93ad-9cc8d9d809a6",
   "metadata": {
    "tags": []
   },
   "source": [
    "## Construct DataFrameSelector to select numerical or categorical columns"
   ]
  },
  {
   "cell_type": "code",
   "execution_count": 16,
   "id": "60aeeb1e-a04e-4af6-801e-9dd11a1539ed",
   "metadata": {},
   "outputs": [],
   "source": [
    "from sklearn.base import BaseEstimator, TransformerMixin\n",
    "\n",
    "# Create a class to select numerical or categorical columns \n",
    "# since Scikit-Learn doesn't handle DataFrames yet\n",
    "class DataFrameSelector(BaseEstimator, TransformerMixin):\n",
    "    def __init__(self, attribute_names):\n",
    "        self.attribute_names = attribute_names\n",
    "    def fit(self, X, y=None):\n",
    "        return self\n",
    "    def transform(self, X):\n",
    "        return X[self.attribute_names].values"
   ]
  },
  {
   "cell_type": "markdown",
   "id": "d852da51-fef9-4180-aa18-1689407c3d0b",
   "metadata": {},
   "source": [
    "## Construct PipelineFriendlyLabelBinarizer to encode the categorical columns"
   ]
  },
  {
   "cell_type": "code",
   "execution_count": 17,
   "id": "fa5c963d-a220-4be0-925e-2ab32b68521b",
   "metadata": {},
   "outputs": [],
   "source": [
    "from sklearn.preprocessing import LabelBinarizer \n",
    "class PipelineFriendlyLabelBinarizer(LabelBinarizer):\n",
    "    def fit_transform(self, X, y=None):\n",
    "        return super(PipelineFriendlyLabelBinarizer, self).fit_transform(X)"
   ]
  },
  {
   "cell_type": "markdown",
   "id": "e9016c26-c7d4-40dd-bbda-ea9d1105637a",
   "metadata": {},
   "source": [
    "## Import SimpleImputer to deal with missing values (NaN) in the dataset"
   ]
  },
  {
   "cell_type": "code",
   "execution_count": 18,
   "id": "d73b9e10-c998-40f4-be30-029dd1a65b1a",
   "metadata": {},
   "outputs": [],
   "source": [
    "from sklearn.impute import SimpleImputer"
   ]
  },
  {
   "cell_type": "markdown",
   "id": "b0d8ab7e-db94-4677-ac9a-2219fb2e01a1",
   "metadata": {},
   "source": [
    "## Construct pipeline for both the numerical data and the categorical data"
   ]
  },
  {
   "cell_type": "code",
   "execution_count": 20,
   "id": "b34ae655-52f4-4d59-a65f-38210fac7c1c",
   "metadata": {},
   "outputs": [],
   "source": [
    "from sklearn.pipeline import Pipeline\n",
    "from sklearn.preprocessing import StandardScaler\n",
    "# let's now combine the numerical and categorical pipelines\n",
    "num_attribs = list(housing)[:-1]  # all numerical features (i.e. no ocean_proximity)\n",
    "cat_attribs = [\"ocean_proximity\"]\n",
    "\n",
    "num_pipeline = Pipeline([\n",
    "        # select the numerical columns\n",
    "        ('selector', DataFrameSelector(num_attribs)),  \n",
    "        # replace NaN values with median of the corresponding column\n",
    "        ('imputer', SimpleImputer(strategy=\"median\")), \n",
    "        # rescale the magnitude of each value so that they are around 0, then our calculation won't explode (run-off error)\n",
    "        ('std_scaler', StandardScaler())               \n",
    "    ])\n",
    "\n",
    "cat_pipeline = Pipeline([\n",
    "        # select the categorical columns\n",
    "        ('selector', DataFrameSelector(cat_attribs)),\n",
    "        # encode categorical labels, so they are easier to deal with\n",
    "        ('label_encoder', PipelineFriendlyLabelBinarizer()),\n",
    "    ])"
   ]
  },
  {
   "cell_type": "markdown",
   "id": "c3789c95-6d52-4cb6-af58-2eaa79f149fa",
   "metadata": {},
   "source": [
    "## Aggregate both pipeline"
   ]
  },
  {
   "cell_type": "code",
   "execution_count": 21,
   "id": "2928064c-dd50-43cd-acb9-f0a216d2eea6",
   "metadata": {},
   "outputs": [],
   "source": [
    "# and concatenate them with FeatureUnion class\n",
    "from sklearn.pipeline import FeatureUnion\n",
    "\n",
    "full_pipeline = FeatureUnion(transformer_list=[\n",
    "        (\"num_pipeline\", num_pipeline),\n",
    "        (\"cat_pipeline\", cat_pipeline),\n",
    "    ])"
   ]
  },
  {
   "cell_type": "markdown",
   "id": "49cc3dae-fcc9-470e-a2b1-36ac60f26f9b",
   "metadata": {},
   "source": [
    "# Apply pipeline on the train_set with stratification to make the transform"
   ]
  },
  {
   "cell_type": "code",
   "execution_count": 22,
   "id": "67a8917b-1534-4073-b4f4-7fd667f1fb56",
   "metadata": {},
   "outputs": [
    {
     "data": {
      "text/plain": [
       "(16512, 14)"
      ]
     },
     "execution_count": 22,
     "metadata": {},
     "output_type": "execute_result"
    }
   ],
   "source": [
    "# this is the final transformation result!\n",
    "housing_prepared = full_pipeline.fit_transform(housing)\n",
    "housing_prepared.shape"
   ]
  },
  {
   "cell_type": "markdown",
   "id": "1e300058-ae03-4a6d-a9d9-cb2edca169d4",
   "metadata": {},
   "source": [
    "This is correct. A matrix containing input $\\mathbb{R}^{N\\times 9}$ ($9$ different features) and label $\\mathbb{R}^{N\\times 5}$ (5 categories/classes) is exactly what we needed."
   ]
  },
  {
   "cell_type": "markdown",
   "id": "524781f0-34ab-4c02-8ee5-4cf5c36c3a4a",
   "metadata": {},
   "source": [
    "## Separate train_set input (X) and train_set label (Y)"
   ]
  },
  {
   "cell_type": "code",
   "execution_count": 23,
   "id": "e94c4d7b-6b54-4a81-8d5a-32136903171c",
   "metadata": {},
   "outputs": [],
   "source": [
    "housing_input = housing_prepared[:,0:9]\n",
    "housing_label = housing_prepared[:,9:14]"
   ]
  },
  {
   "cell_type": "markdown",
   "id": "39240785-3546-420e-b0f5-5a2b1a6e3459",
   "metadata": {},
   "source": [
    "Sanity Check:"
   ]
  },
  {
   "cell_type": "code",
   "execution_count": 24,
   "id": "85fcc752-217b-4788-951d-af60a1d33a68",
   "metadata": {},
   "outputs": [
    {
     "data": {
      "text/plain": [
       "array([[0., 1., 0., 0., 0.],\n",
       "       [0., 1., 0., 0., 0.],\n",
       "       [1., 0., 0., 0., 0.],\n",
       "       ...,\n",
       "       [1., 0., 0., 0., 0.],\n",
       "       [0., 0., 0., 0., 1.],\n",
       "       [0., 0., 0., 1., 0.]])"
      ]
     },
     "execution_count": 24,
     "metadata": {},
     "output_type": "execute_result"
    }
   ],
   "source": [
    "housing_label"
   ]
  },
  {
   "cell_type": "markdown",
   "id": "665ea397-7fba-4d8c-a629-10d4099bd634",
   "metadata": {},
   "source": [
    "# Test set:Separate test_set input (X) and test_set label (Y)"
   ]
  },
  {
   "cell_type": "code",
   "execution_count": 25,
   "id": "443d9718-c9a1-4e29-869b-90bf8216f62a",
   "metadata": {},
   "outputs": [],
   "source": [
    "housing_test = strat_test_set\n",
    "housing_test_prepared = full_pipeline.fit_transform(housing_test)\n",
    "housing_test_input = housing_test_prepared[:,0:9]\n",
    "housing_test_label = housing_test_prepared[:,9:14]"
   ]
  },
  {
   "cell_type": "markdown",
   "id": "5faf5629-f0a4-464c-b9b0-124ea306226d",
   "metadata": {},
   "source": [
    "# Test 3 values of p"
   ]
  },
  {
   "cell_type": "code",
   "execution_count": 36,
   "id": "59e8b17c-0b4d-4703-9c7b-10988d245080",
   "metadata": {},
   "outputs": [
    {
     "name": "stdout",
     "output_type": "stream",
     "text": [
      "Accuracy for p=1 is  0.8141957364341085\n",
      "Accuracy for p=2 is  0.7948158914728682\n",
      "Accuracy for p=10 is  0.780765503875969\n"
     ]
    }
   ],
   "source": [
    "from sklearn.neighbors import KNeighborsClassifier\n",
    "from sklearn.metrics import accuracy_score\n",
    "\n",
    "# weights = (1,1,...,1)\n",
    "weights = np.ones(9)\n",
    "\n",
    "# p as hyperparameters\n",
    "for p_minkowski in [1, 2, 10]:\n",
    "    # We use the ball_tree algorithm here because the kd_tree algorithm is not \n",
    "    # compatible with the w parameter in the minkowski distance metric.\n",
    "    neigh = KNeighborsClassifier(n_neighbors=5,        # every neighbourhood contains 5 points\n",
    "                                 weights='uniform',    # every vote has the same value\n",
    "                                 algorithm='ball_tree',# use the ball_tree algorithm\n",
    "                                 p=p_minkowski,        # p in minkowski distance\n",
    "                                 metric='minkowski',   # minkowski distance\n",
    "                                 metric_params={'w': weights}, # w in minkowski distance\n",
    "                                 n_jobs=-1             # use all processors\n",
    "                                )\n",
    "    \n",
    "    neigh.fit(housing_input, housing_label)\n",
    "    housing_predicted_label = neigh.predict(housing_test_input)\n",
    "    accuracy=accuracy_score(housing_test_label, housing_predicted_label)\n",
    "    print(f\"Accuracy for p={p_minkowski} is \", accuracy)"
   ]
  },
  {
   "cell_type": "markdown",
   "id": "164041fe-324a-4b7c-8269-f2dbf105046a",
   "metadata": {},
   "source": [
    "**We cannot use $p=-10$, because the document of \\texttt{sklearn} has specified that the value of $p$ should be larger than $1$.**\n",
    "\n",
    "**I don't get good accuracy score for $p=10$ comparing with that of the other $2$.**"
   ]
  },
  {
   "cell_type": "markdown",
   "id": "9c79b6de-6f45-4025-ba97-6e5496dbf1a1",
   "metadata": {},
   "source": [
    "# Apply the GridSearchCV to find the optimal p\n",
    "\n",
    "\n"
   ]
  },
  {
   "cell_type": "code",
   "execution_count": 1,
   "id": "942dfee0-a9e1-4559-ba27-4c8f93cab672",
   "metadata": {},
   "outputs": [
    {
     "ename": "NameError",
     "evalue": "name 'np' is not defined",
     "output_type": "error",
     "traceback": [
      "\u001b[0;31m---------------------------------------------------------------------------\u001b[0m",
      "\u001b[0;31mNameError\u001b[0m                                 Traceback (most recent call last)",
      "Input \u001b[0;32mIn [1]\u001b[0m, in \u001b[0;36m<cell line: 4>\u001b[0;34m()\u001b[0m\n\u001b[1;32m      1\u001b[0m \u001b[38;5;28;01mfrom\u001b[39;00m \u001b[38;5;21;01msklearn\u001b[39;00m\u001b[38;5;21;01m.\u001b[39;00m\u001b[38;5;21;01mmodel_selection\u001b[39;00m \u001b[38;5;28;01mimport\u001b[39;00m GridSearchCV\n\u001b[1;32m      3\u001b[0m \u001b[38;5;66;03m# weights = (1,1,...,1)\u001b[39;00m\n\u001b[0;32m----> 4\u001b[0m weights \u001b[38;5;241m=\u001b[39m \u001b[43mnp\u001b[49m\u001b[38;5;241m.\u001b[39mones(\u001b[38;5;241m9\u001b[39m)\n\u001b[1;32m      6\u001b[0m \u001b[38;5;66;03m# Dictionary containing grid parameters\u001b[39;00m\n\u001b[1;32m      7\u001b[0m grid_params \u001b[38;5;241m=\u001b[39m {\n\u001b[1;32m      8\u001b[0m     \u001b[38;5;124m'\u001b[39m\u001b[38;5;124mp\u001b[39m\u001b[38;5;124m'\u001b[39m: \u001b[38;5;28mlist\u001b[39m(\u001b[38;5;28mrange\u001b[39m(\u001b[38;5;241m1\u001b[39m,\u001b[38;5;241m11\u001b[39m))\n\u001b[1;32m      9\u001b[0m }\n",
      "\u001b[0;31mNameError\u001b[0m: name 'np' is not defined"
     ]
    }
   ],
   "source": [
    "from sklearn.model_selection import GridSearchCV\n",
    "\n",
    "# weights = (1,1,...,1)\n",
    "weights = np.ones(9)\n",
    "\n",
    "# Dictionary containing grid parameters\n",
    "grid_params = {\n",
    "    'p': list(range(1,11))\n",
    "}\n",
    "\n",
    "# Construct a GridSearch-CrossValidation object\n",
    "gs = GridSearchCV(\n",
    "    KNeighborsClassifier(\n",
    "        n_neighbors=5,        # every neighbourhood contains 5 points\n",
    "        weights='uniform',    # every vote has the same value\n",
    "        algorithm='ball_tree',# use the ball_tree algorithm\n",
    "        metric='minkowski',   # minkowski distance\n",
    "        metric_params={'w': weights}, # w in minkowski distance\n",
    "        n_jobs=-1             # use all processors\n",
    "    ),\n",
    "    grid_params,\n",
    "    verbose = 1,          # set to 1 is equivalent to no bs\n",
    "    cv = 3,               # (Stratified) 3-Fold Cross-Validation\n",
    "    n_jobs=-1             # use all processors\n",
    ")\n",
    "\n",
    "# Fit the train_set\n",
    "gs_results = gs.fit(housing_input, housing_label)\n",
    "\"\"\"\n",
    "It is recommended to hold out a test set that the model only sees at the end, \n",
    "but not during the parameter tuning and model selection steps.\n",
    "\n",
    "Grid search with cross-validation is especially useful to performs these steps,\n",
    "this is why the author only uses the train data.\n",
    "\"\"\""
   ]
  },
  {
   "cell_type": "code",
   "execution_count": 43,
   "id": "a74bdb5f-9b68-48c5-9b75-a13d796490a1",
   "metadata": {},
   "outputs": [
    {
     "data": {
      "text/plain": [
       "0.8051719961240309"
      ]
     },
     "execution_count": 43,
     "metadata": {},
     "output_type": "execute_result"
    }
   ],
   "source": [
    "gs_results.best_score_"
   ]
  },
  {
   "cell_type": "code",
   "execution_count": 44,
   "id": "9cd2ab6e-6820-4510-b7c5-3cd1d20c31b3",
   "metadata": {},
   "outputs": [
    {
     "data": {
      "text/plain": [
       "KNeighborsClassifier(algorithm='ball_tree',\n",
       "                     metric_params={'w': array([1., 1., 1., 1., 1., 1., 1., 1., 1.])},\n",
       "                     n_jobs=-1, p=1)"
      ]
     },
     "execution_count": 44,
     "metadata": {},
     "output_type": "execute_result"
    }
   ],
   "source": [
    "gs_results.best_estimator_"
   ]
  },
  {
   "cell_type": "code",
   "execution_count": 45,
   "id": "df3b2ce8-4e0c-4d30-b95c-68f3239344a8",
   "metadata": {},
   "outputs": [
    {
     "data": {
      "text/plain": [
       "{'p': 1}"
      ]
     },
     "execution_count": 45,
     "metadata": {},
     "output_type": "execute_result"
    }
   ],
   "source": [
    "gs_results.best_params_"
   ]
  },
  {
   "cell_type": "markdown",
   "id": "2a0d9adf-f5ab-4e1f-b0c4-35965cf72616",
   "metadata": {},
   "source": [
    "**Therefore, the optimal $p$ given by the $\\texttt{GridSearchCV}$ is $p=1$.**"
   ]
  },
  {
   "cell_type": "markdown",
   "id": "d860a7d2-ad63-4817-9210-23d03d8f9dae",
   "metadata": {},
   "source": [
    "# Drop 1 feature to see which feature is the most important one"
   ]
  },
  {
   "cell_type": "code",
   "execution_count": 46,
   "id": "8aadf47f-63fa-486f-9877-b8c9350fe958",
   "metadata": {},
   "outputs": [],
   "source": [
    "# Create a class to drop selected columns in the feature matrix\n",
    "class DataColumnDropper(BaseEstimator, TransformerMixin):\n",
    "    def __init__(self, index):\n",
    "        self.column_index_to_drop = index\n",
    "    def fit(self, X, y=None):\n",
    "        return self\n",
    "    def transform(self, X):\n",
    "        return np.delete(X, i, axis=1)"
   ]
  },
  {
   "cell_type": "code",
   "execution_count": 48,
   "id": "41bb5781-23ed-49c1-8414-d693a55bb9ad",
   "metadata": {},
   "outputs": [
    {
     "name": "stdout",
     "output_type": "stream",
     "text": [
      "Accuracy for dropping longitude is  0.718265503875969\n",
      "Accuracy for dropping latitude is  0.720203488372093\n",
      "Accuracy for dropping housing_median_age is  0.8018410852713178\n",
      "Accuracy for dropping total_rooms is  0.7771317829457365\n",
      "Accuracy for dropping total_bedrooms is  0.783187984496124\n",
      "Accuracy for dropping population is  0.779312015503876\n",
      "Accuracy for dropping households is  0.7805232558139535\n",
      "Accuracy for dropping median_income is  0.7950581395348837\n",
      "Accuracy for dropping median_house_value is  0.7766472868217055\n"
     ]
    }
   ],
   "source": [
    "# Consecutively drop the 0th column to the 8th column, i.e., the 9 numerical features\n",
    "for i in range(9):\n",
    "    # new pipeline for numerical data\n",
    "    num_pipeline_including_drop_feature = Pipeline([\n",
    "            ('selector', DataFrameSelector(num_attribs)),\n",
    "            ('imputer', SimpleImputer(strategy=\"median\")),\n",
    "            ('std_scaler', StandardScaler()),\n",
    "            ('drop_column', DataColumnDropper(i))\n",
    "        ])\n",
    "    # same pipeline for categorical data\n",
    "    cat_pipeline = Pipeline([\n",
    "            ('selector', DataFrameSelector(cat_attribs)),\n",
    "            ('label_encoder', PipelineFriendlyLabelBinarizer())\n",
    "        ])\n",
    "    # combine the two pipelines above\n",
    "    full_pipeline = FeatureUnion(transformer_list=[\n",
    "        (\"num_pipeline\", num_pipeline_including_drop_feature),\n",
    "        (\"cat_pipeline\", cat_pipeline)\n",
    "    ])\n",
    "    \n",
    "    # Apply the transform to train_set via the full_pipeline above\n",
    "    housing_prepared_d = full_pipeline.fit_transform(housing)\n",
    "    housing_input_d = housing_prepared_d[:,0:8]\n",
    "    housing_label_d = housing_prepared_d[:,8:13]\n",
    "    \n",
    "    # Apply the transform to test_set via the full_pipeline above\n",
    "    housing_test_prepared_d = full_pipeline.fit_transform(housing_test)\n",
    "    housing_test_input_d = housing_test_prepared_d[:,0:8]\n",
    "    housing_test_label_d = housing_test_prepared_d[:,8:13]\n",
    "    # Sanity Check\n",
    "    # print(housing_test_input_d.shape)\n",
    "    # print(housing_test_label_d.shape)\n",
    "    \n",
    "    # KNN Model\n",
    "    weights = np.ones(8)  # weights = (1,1,...,1)\n",
    "    \n",
    "    neigh = KNeighborsClassifier(n_neighbors=5,        # every neighbourhood contains 5 points\n",
    "                                 weights='uniform',    # every vote has the same value\n",
    "                                 algorithm='ball_tree',# use the ball_tree algorithm\n",
    "                                 p=p_minkowski,        # p in minkowski distance\n",
    "                                 metric='minkowski',   # minkowski distance\n",
    "                                 metric_params={'w': weights}, # w in minkowski distance\n",
    "                                 n_jobs=-1             # use all processors\n",
    "                                )\n",
    "    neigh.fit(housing_input_d, housing_label_d)\n",
    "    housing_predicted_label_d = neigh.predict(housing_test_input_d)\n",
    "    # Test Accuracy\n",
    "    accuracy=accuracy_score(housing_test_label_d, housing_predicted_label_d)\n",
    "    print(f\"Accuracy for dropping {num_attribs[i]} is \", accuracy)\n",
    "    "
   ]
  },
  {
   "cell_type": "markdown",
   "id": "1dd59cbd-55fd-46ab-9b53-56dccd62e8b5",
   "metadata": {},
   "source": [
    "**Clearly, we can see that the longitude feature is the most important, and the latitude feature is the second important.**"
   ]
  },
  {
   "cell_type": "code",
   "execution_count": null,
   "id": "24a430b3-a1e9-4700-b2c4-7b192cb636f8",
   "metadata": {},
   "outputs": [],
   "source": []
  }
 ],
 "metadata": {
  "kernelspec": {
   "display_name": "Python 3 (ipykernel)",
   "language": "python",
   "name": "python3"
  },
  "language_info": {
   "codemirror_mode": {
    "name": "ipython",
    "version": 3
   },
   "file_extension": ".py",
   "mimetype": "text/x-python",
   "name": "python",
   "nbconvert_exporter": "python",
   "pygments_lexer": "ipython3",
   "version": "3.9.12"
  }
 },
 "nbformat": 4,
 "nbformat_minor": 5
}
